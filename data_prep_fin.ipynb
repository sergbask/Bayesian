{
 "cells": [
  {
   "cell_type": "code",
   "id": "initial_id",
   "metadata": {
    "collapsed": true,
    "ExecuteTime": {
     "end_time": "2025-03-03T23:44:53.379190Z",
     "start_time": "2025-03-03T23:44:53.376500Z"
    }
   },
   "source": [
    "import pandas as pd\n",
    "import numpy as np\n",
    "from pathlib import Path\n",
    "import shutil\n",
    "import random\n",
    "import os\n"
   ],
   "outputs": [],
   "execution_count": 3
  },
  {
   "metadata": {
    "ExecuteTime": {
     "end_time": "2025-03-03T23:59:31.499795Z",
     "start_time": "2025-03-03T23:59:31.497044Z"
    }
   },
   "cell_type": "code",
   "source": [
    "path_orig_anom = Path('./ObjectCategories/')\n",
    "path_flatten_anom = Path('./ObjectFlatten/')\n",
    "\n",
    "fls = os.walk(path_orig_anom)\n",
    "\n",
    "for path, dirs, files in fls:\n",
    "    for file in files:\n",
    "        if file.endswith('.jpg'):\n",
    "            path_flatten_anom.mkdir(mode=0o777, parents=True, exist_ok=True)\n",
    "            shutil.copyfile(Path(path,file), path_flatten_anom.joinpath(file))\n",
    "\n",
    "# path_train = './data/train/'\n",
    "# path_test = './data/test/'\n",
    "# path_final_test = './data/final_test/'"
   ],
   "id": "69fc9e0b0b6cd984",
   "outputs": [],
   "execution_count": 8
  },
  {
   "metadata": {
    "ExecuteTime": {
     "end_time": "2025-03-03T23:57:48.700480Z",
     "start_time": "2025-03-03T23:57:48.698101Z"
    }
   },
   "cell_type": "code",
   "source": "random.seed(12345)",
   "id": "f644a323192dfce4",
   "outputs": [],
   "execution_count": 7
  },
  {
   "metadata": {
    "ExecuteTime": {
     "end_time": "2025-03-04T00:01:27.223790Z",
     "start_time": "2025-03-04T00:01:27.203110Z"
    }
   },
   "cell_type": "code",
   "source": [
    "list_fls = []\n",
    "fls = os.walk(path_flatten_anom)\n",
    "for _, _, files in fls:\n",
    "    list_fls.extend(files)\n",
    "len(list_fls)"
   ],
   "id": "704265d19297a1b6",
   "outputs": [
    {
     "data": {
      "text/plain": [
       "30120"
      ]
     },
     "execution_count": 10,
     "metadata": {},
     "output_type": "execute_result"
    }
   ],
   "execution_count": 10
  },
  {
   "metadata": {
    "ExecuteTime": {
     "end_time": "2025-03-04T01:02:04.880833Z",
     "start_time": "2025-03-04T01:02:04.477100Z"
    }
   },
   "cell_type": "code",
   "source": [
    "# 842 for binary\n",
    "path_binary_test = Path('./data/out_binary_test/')\n",
    "p = path_binary_test.joinpath('0')\n",
    "\n",
    "df_neg_ind = [i for i in range(len(list_fls))]\n",
    "random.shuffle(df_neg_ind)\n",
    "# imgs = df_data_neg.to_numpy()\n",
    "for i in df_neg_ind[:int(842)]:\n",
    "    img = list_fls[i]\n",
    "    p.mkdir(mode=0o777, parents=True, exist_ok=True)\n",
    "    shutil.copyfile(path_flatten_anom.joinpath(img), p.joinpath(img))\n"
   ],
   "id": "5192a113e03c4159",
   "outputs": [],
   "execution_count": 12
  },
  {
   "metadata": {},
   "cell_type": "code",
   "outputs": [],
   "execution_count": null,
   "source": "",
   "id": "7ff3e1ec90ce4fef"
  },
  {
   "metadata": {
    "ExecuteTime": {
     "end_time": "2025-03-04T01:09:59.439631Z",
     "start_time": "2025-03-04T01:09:59.389567Z"
    }
   },
   "cell_type": "code",
   "source": [
    "# 119 classification\n",
    "path_classif_test = Path('./data/out_classif_test/')\n",
    "\n",
    "p = path_classif_test.joinpath('0')\n",
    "\n",
    "df_neg_ind = [i for i in range(len(list_fls))]\n",
    "random.shuffle(df_neg_ind)\n",
    "# imgs = df_data_neg.to_numpy()\n",
    "for i in df_neg_ind[:int(119)]:\n",
    "    img = list_fls[i]\n",
    "    p.mkdir(mode=0o777, parents=True, exist_ok=True)\n",
    "    shutil.copyfile(path_flatten_anom.joinpath(img), p.joinpath(img))"
   ],
   "id": "43793fd10a4c78f",
   "outputs": [],
   "execution_count": 13
  },
  {
   "metadata": {},
   "cell_type": "code",
   "outputs": [],
   "execution_count": null,
   "source": "",
   "id": "b418e6d2f0d3a3b0"
  }
 ],
 "metadata": {
  "kernelspec": {
   "display_name": "Python 3",
   "language": "python",
   "name": "python3"
  },
  "language_info": {
   "codemirror_mode": {
    "name": "ipython",
    "version": 2
   },
   "file_extension": ".py",
   "mimetype": "text/x-python",
   "name": "python",
   "nbconvert_exporter": "python",
   "pygments_lexer": "ipython2",
   "version": "2.7.6"
  }
 },
 "nbformat": 4,
 "nbformat_minor": 5
}
