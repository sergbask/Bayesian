{
 "cells": [
  {
   "cell_type": "code",
   "id": "initial_id",
   "metadata": {
    "collapsed": true,
    "ExecuteTime": {
     "end_time": "2025-03-01T23:18:40.304254Z",
     "start_time": "2025-03-01T23:18:40.302040Z"
    }
   },
   "source": [
    "import torch\n",
    "import torch.nn as nn\n",
    "from torchvision import transforms\n",
    "from torchvision import models\n",
    "from torch.utils.data import Dataset, DataLoader\n",
    "from torchvision.datasets import ImageFolder\n",
    "from datasets import Dataset, load_from_disk\n",
    "import torch.nn.functional as F\n",
    "\n",
    "import numpy as np\n",
    "import pandas as pd"
   ],
   "outputs": [],
   "execution_count": 60
  },
  {
   "metadata": {
    "ExecuteTime": {
     "end_time": "2025-03-01T23:18:40.831140Z",
     "start_time": "2025-03-01T23:18:40.829235Z"
    }
   },
   "cell_type": "code",
   "source": [
    "device = (\n",
    "    \"cuda\"\n",
    "    if torch.cuda.is_available()\n",
    "    else \"mps\"\n",
    "    if torch.backends.mps.is_available()\n",
    "    else \"cpu\"\n",
    ")\n",
    "print(f\"Using {device} device\")"
   ],
   "id": "991aab753971d136",
   "outputs": [
    {
     "name": "stdout",
     "output_type": "stream",
     "text": [
      "Using mps device\n"
     ]
    }
   ],
   "execution_count": 61
  },
  {
   "metadata": {
    "ExecuteTime": {
     "end_time": "2025-03-01T23:18:41.834649Z",
     "start_time": "2025-03-01T23:18:41.832578Z"
    }
   },
   "cell_type": "code",
   "source": "path_final_test = './data/final_test/'",
   "id": "6029196943079424",
   "outputs": [],
   "execution_count": 62
  },
  {
   "metadata": {
    "ExecuteTime": {
     "end_time": "2025-03-01T23:18:42.195033Z",
     "start_time": "2025-03-01T23:18:42.193379Z"
    }
   },
   "cell_type": "code",
   "source": "BATCH_SIZE = 128",
   "id": "dd136f4dd001ad15",
   "outputs": [],
   "execution_count": 63
  },
  {
   "metadata": {
    "ExecuteTime": {
     "end_time": "2025-03-01T23:18:42.852066Z",
     "start_time": "2025-03-01T23:18:42.850105Z"
    }
   },
   "cell_type": "code",
   "source": "preprocess = transforms.Compose([transforms.Resize(256), transforms.CenterCrop(224), transforms.ToTensor(), transforms.Normalize(mean=[0.485, 0.456, 0.406],  std=[0.229, 0.224, 0.225])])",
   "id": "a07b6e36f80f6a71",
   "outputs": [],
   "execution_count": 64
  },
  {
   "metadata": {
    "ExecuteTime": {
     "end_time": "2025-03-01T23:18:43.261074Z",
     "start_time": "2025-03-01T23:18:43.252584Z"
    }
   },
   "cell_type": "code",
   "source": [
    "# 0 - anomalies\n",
    "\n",
    "test_dataset = ImageFolder(path_final_test, preprocess)"
   ],
   "id": "9cdd17c57c8a68c5",
   "outputs": [],
   "execution_count": 65
  },
  {
   "metadata": {
    "ExecuteTime": {
     "end_time": "2025-03-01T23:18:43.952096Z",
     "start_time": "2025-03-01T23:18:43.949323Z"
    }
   },
   "cell_type": "code",
   "source": "test_dataset",
   "id": "6522743d1156c425",
   "outputs": [
    {
     "data": {
      "text/plain": [
       "Dataset ImageFolder\n",
       "    Number of datapoints: 1751\n",
       "    Root location: ./data/final_test/\n",
       "    StandardTransform\n",
       "Transform: Compose(\n",
       "               Resize(size=256, interpolation=bilinear, max_size=None, antialias=True)\n",
       "               CenterCrop(size=(224, 224))\n",
       "               ToTensor()\n",
       "               Normalize(mean=[0.485, 0.456, 0.406], std=[0.229, 0.224, 0.225])\n",
       "           )"
      ]
     },
     "execution_count": 66,
     "metadata": {},
     "output_type": "execute_result"
    }
   ],
   "execution_count": 66
  },
  {
   "metadata": {
    "ExecuteTime": {
     "end_time": "2025-03-01T23:18:44.462171Z",
     "start_time": "2025-03-01T23:18:44.460495Z"
    }
   },
   "cell_type": "code",
   "source": "testDataLoader = DataLoader(test_dataset, batch_size=BATCH_SIZE, shuffle=True)",
   "id": "e52db9de1dd3f03e",
   "outputs": [],
   "execution_count": 67
  },
  {
   "metadata": {
    "ExecuteTime": {
     "end_time": "2025-03-01T23:18:45.101074Z",
     "start_time": "2025-03-01T23:18:44.938991Z"
    }
   },
   "cell_type": "code",
   "source": "next(iter(testDataLoader))[1]",
   "id": "4df709ccf4f1758b",
   "outputs": [
    {
     "data": {
      "text/plain": [
       "tensor([0, 0, 0, 0, 1, 1, 1, 1, 1, 0, 1, 0, 1, 0, 0, 0, 0, 0, 0, 0, 0, 1, 0, 0,\n",
       "        0, 1, 1, 1, 1, 1, 1, 0, 1, 1, 1, 0, 1, 1, 1, 1, 0, 1, 0, 0, 1, 0, 1, 0,\n",
       "        1, 1, 0, 0, 0, 0, 1, 0, 0, 1, 0, 1, 1, 0, 1, 1, 1, 0, 0, 0, 1, 1, 1, 0,\n",
       "        0, 0, 0, 0, 1, 0, 0, 0, 0, 1, 0, 1, 1, 1, 1, 0, 1, 1, 1, 1, 1, 0, 0, 0,\n",
       "        0, 0, 1, 0, 1, 0, 0, 1, 0, 0, 0, 0, 0, 0, 0, 0, 1, 0, 1, 0, 1, 1, 0, 1,\n",
       "        0, 0, 0, 0, 0, 1, 0, 0])"
      ]
     },
     "execution_count": 68,
     "metadata": {},
     "output_type": "execute_result"
    }
   ],
   "execution_count": 68
  },
  {
   "metadata": {
    "ExecuteTime": {
     "end_time": "2025-03-01T23:18:47.085063Z",
     "start_time": "2025-03-01T23:18:46.570772Z"
    }
   },
   "cell_type": "code",
   "source": [
    "resnet34 = models.resnet34(weights=None)\n",
    "class CustomFC(nn.Module):\n",
    "    def __init__(self, in_features, out_features):\n",
    "        super().__init__()\n",
    "        self.in_features = in_features\n",
    "        self.out_features = out_features\n",
    "        self.fc1 = nn.Linear(in_features=in_features, out_features=out_features)\n",
    "        \n",
    "    def forward(self, x):\n",
    "        return self.fc1(x), x\n",
    "    \n",
    "resnet34.fc = CustomFC(512,8)\n",
    "resnet34.to(device)\n",
    "\n",
    "resnet34.load_state_dict(torch.load('model_best_resnet34.pt', map_location=device, weights_only=False))"
   ],
   "id": "5631019184d2569e",
   "outputs": [
    {
     "data": {
      "text/plain": [
       "<All keys matched successfully>"
      ]
     },
     "execution_count": 69,
     "metadata": {},
     "output_type": "execute_result"
    }
   ],
   "execution_count": 69
  },
  {
   "metadata": {
    "ExecuteTime": {
     "end_time": "2025-03-01T23:06:00.238656Z",
     "start_time": "2025-03-01T23:06:00.235896Z"
    }
   },
   "cell_type": "code",
   "source": [
    "class AutoEncoder(torch.nn.Module):\n",
    "    def __init__(self, n, m, p, b):\n",
    "        super().__init__()\n",
    "        self.e1 = torch.nn.Linear(n, m)\n",
    "        self.e2 = torch.nn.Linear(m, p)\n",
    "        self.e3 = torch.nn.Linear(p, b)\n",
    "        self.dec3 = torch.nn.Linear(b, p)\n",
    "        self.dec2 = torch.nn.Linear(p, m)\n",
    "        self.dec1 = torch.nn.Linear(m, n)\n",
    "        \n",
    "    def forward(self, x):\n",
    "        x = self.e1(x)\n",
    "        x = self.e2(F.relu(x))\n",
    "        encoded = self.e3(F.relu(x))\n",
    "        x = self.dec3(encoded)\n",
    "        x = self.dec2(F.relu(x))\n",
    "        x = self.dec1(F.relu(x))\n",
    "        return x"
   ],
   "id": "a8f8c0cdafa61761",
   "outputs": [],
   "execution_count": 49
  },
  {
   "metadata": {
    "ExecuteTime": {
     "end_time": "2025-03-01T23:06:01.188591Z",
     "start_time": "2025-03-01T23:06:01.176404Z"
    }
   },
   "cell_type": "code",
   "source": [
    "del model_auto\n",
    "\n",
    "model_auto = AutoEncoder(512, 256, 128, 32)\n",
    "model_auto.to(device)\n",
    "model_auto.load_state_dict(torch.load('best_model_autoenc32_resnet34.pt', map_location=device, weights_only=False))"
   ],
   "id": "8e07f9d7d97b0b8c",
   "outputs": [
    {
     "data": {
      "text/plain": [
       "<All keys matched successfully>"
      ]
     },
     "execution_count": 50,
     "metadata": {},
     "output_type": "execute_result"
    }
   ],
   "execution_count": 50
  },
  {
   "metadata": {
    "ExecuteTime": {
     "end_time": "2025-03-01T23:06:05.400801Z",
     "start_time": "2025-03-01T23:06:05.399267Z"
    }
   },
   "cell_type": "code",
   "source": "",
   "id": "9da3cd6817400f61",
   "outputs": [],
   "execution_count": 50
  },
  {
   "metadata": {
    "ExecuteTime": {
     "end_time": "2025-03-01T23:06:05.806124Z",
     "start_time": "2025-03-01T23:06:05.803152Z"
    }
   },
   "cell_type": "code",
   "source": [
    "def sep_mod_acc(model1, model2, dataloader_test, er_mean_rat):\n",
    "    loss_fn = torch.nn.MSELoss(reduction='none')\n",
    "    model1.eval()\n",
    "    model2.eval()\n",
    "    trg = []\n",
    "    pred = []\n",
    "    acc_test = 0.0\n",
    "    tot_test = 0.0\n",
    "    big_ones = 0.0\n",
    "    tot_positive = 0.0\n",
    "    with torch.no_grad():\n",
    "        for itms in dataloader_test:\n",
    "            x=itms[0]\n",
    "            target=itms[1]\n",
    "            x = x.to(device)\n",
    "            target = target.to(device)\n",
    "            outputs, emb = model1(x)\n",
    "            x_pr = model2(emb)\n",
    "            error = torch.mean(loss_fn(x_pr, emb), dim=1)/0.0026712\n",
    "            acc_test += torch.sum(torch.where(error>er_mean_rat,0,1) == target).item()\n",
    "            tot_test += target.size(0)\n",
    "            \n",
    "            \n",
    "            # outputs = outputs.sigmoid().max(dim=1).values\n",
    "\n",
    "        #     big_ones += torch.sum(outputs.round()).item()\n",
    "        #     pred.extend(outputs.round().cpu().tolist())\n",
    "        #     trg.extend(target.cpu().tolist())\n",
    "        #     tot_test += target.size(0)\n",
    "        #     tot_positive += torch.sum(target).item()\n",
    "        # print(f'{er_mean_rat}Test accuracy: {round(acc_test/tot_test*100,2)}%')\n",
    "        # print(f'Higher than 50%: {round(big_ones/tot_test*100,2)}%')\n",
    "        # print(f'Non-anomalies to total: {round(tot_positive/tot_test*100,2)}%')\n",
    "        \n",
    "    return round(acc_test/tot_test*100,2)#, round(big_ones/tot_test*100,2), pd.DataFrame({'true':trg, 'pred':pred})"
   ],
   "id": "a76986792c46f8e",
   "outputs": [],
   "execution_count": 51
  },
  {
   "metadata": {
    "ExecuteTime": {
     "end_time": "2025-03-01T23:10:33.871983Z",
     "start_time": "2025-03-01T23:06:08.005440Z"
    }
   },
   "cell_type": "code",
   "source": [
    "res = []\n",
    "for i in range(1,70):\n",
    "    res.append(sep_mod_acc(resnet34, model_auto, testDataLoader, i*.1))\n",
    "max(res)\n"
   ],
   "id": "e98b1752ec6b9930",
   "outputs": [
    {
     "data": {
      "text/plain": [
       "60.14"
      ]
     },
     "execution_count": 52,
     "metadata": {},
     "output_type": "execute_result"
    }
   ],
   "execution_count": 52
  },
  {
   "metadata": {
    "ExecuteTime": {
     "end_time": "2025-03-01T23:15:48.512574Z",
     "start_time": "2025-03-01T23:15:48.510514Z"
    }
   },
   "cell_type": "code",
   "source": "res",
   "id": "5f67c803c78de824",
   "outputs": [
    {
     "data": {
      "text/plain": [
       "[51.97,\n",
       " 51.97,\n",
       " 51.97,\n",
       " 52.26,\n",
       " 53.11,\n",
       " 54.65,\n",
       " 55.91,\n",
       " 56.08,\n",
       " 56.31,\n",
       " 58.31,\n",
       " 58.71,\n",
       " 59.79,\n",
       " 60.14,\n",
       " 59.85,\n",
       " 60.08,\n",
       " 59.28,\n",
       " 58.08,\n",
       " 57.8,\n",
       " 56.71,\n",
       " 55.34,\n",
       " 54.37,\n",
       " 53.06,\n",
       " 52.77,\n",
       " 51.86,\n",
       " 51.68,\n",
       " 51.46,\n",
       " 51.06,\n",
       " 51.0,\n",
       " 51.06,\n",
       " 50.66,\n",
       " 50.37,\n",
       " 50.09,\n",
       " 49.91,\n",
       " 49.91,\n",
       " 49.69,\n",
       " 49.34,\n",
       " 49.29,\n",
       " 49.06,\n",
       " 49.06,\n",
       " 49.0,\n",
       " 48.89,\n",
       " 48.72,\n",
       " 48.43,\n",
       " 48.43,\n",
       " 48.32,\n",
       " 48.32,\n",
       " 48.26,\n",
       " 48.37,\n",
       " 48.32,\n",
       " 48.26,\n",
       " 48.32,\n",
       " 48.26,\n",
       " 48.26,\n",
       " 48.26,\n",
       " 48.26,\n",
       " 48.26,\n",
       " 48.26,\n",
       " 48.26,\n",
       " 48.26,\n",
       " 48.26,\n",
       " 48.2,\n",
       " 48.14,\n",
       " 48.14,\n",
       " 48.14,\n",
       " 48.14,\n",
       " 48.14,\n",
       " 48.14,\n",
       " 48.2,\n",
       " 48.14]"
      ]
     },
     "execution_count": 53,
     "metadata": {},
     "output_type": "execute_result"
    }
   ],
   "execution_count": 53
  },
  {
   "metadata": {
    "ExecuteTime": {
     "end_time": "2025-03-02T03:57:58.110202Z",
     "start_time": "2025-03-02T03:46:09.008988Z"
    }
   },
   "cell_type": "code",
   "source": [
    "mtr = []\n",
    "\n",
    "for i in [16,32,64]:\n",
    "    del model_auto\n",
    "    model_auto = AutoEncoder(512, 256, 128, i)\n",
    "    model_auto.to(device)\n",
    "    model_auto.load_state_dict(torch.load(f'best_model_autoenc{i}_resnet34.pt', map_location=device, weights_only=False))\n",
    "    res = []\n",
    "    for j in range(1,70):\n",
    "        res.append((sep_mod_acc(resnet34, model_auto, testDataLoader, j*.1), j*0.1))\n",
    "    acc = [k[0] for k in res]\n",
    "    print(acc)\n",
    "    par = [k[1] for k in res]\n",
    "    acc_max = max(acc)\n",
    "    ind_max = acc.index(acc_max)\n",
    "    par_max = par[ind_max]\n",
    "    mtr.append((i,acc_max, par_max))\n",
    "    \n",
    "auto_sep = pd.DataFrame({'dim':[i[0] for i in mtr],'acc':[i[1] for i in mtr],'param':[i[2] for i in mtr]})\n",
    "print(auto_sep)"
   ],
   "id": "2fbfdc3a396f856e",
   "outputs": [
    {
     "name": "stdout",
     "output_type": "stream",
     "text": [
      "[51.97, 51.97, 51.97, 53.06, 53.57, 54.65, 56.08, 57.4, 56.14, 56.77, 56.65, 57.17, 57.74, 56.77, 55.85, 55.4, 55.34, 54.08, 53.57, 53.46, 52.54, 51.91, 51.63, 51.34, 51.11, 50.94, 50.94, 50.89, 50.83, 50.83, 50.49, 50.14, 49.86, 49.8, 49.51, 49.17, 49.06, 48.94, 48.89, 48.94, 48.83, 48.77, 48.72, 48.72, 48.66, 48.54, 48.49, 48.49, 48.49, 48.49, 48.54, 48.54, 48.49, 48.49, 48.43, 48.43, 48.37, 48.26, 48.26, 48.26, 48.26, 48.2, 48.2, 48.2, 48.2, 48.2, 48.14, 48.09, 48.14]\n",
      "[51.97, 51.97, 51.97, 52.26, 53.11, 54.65, 55.91, 56.08, 56.31, 58.31, 58.71, 59.79, 60.14, 59.85, 60.08, 59.28, 58.08, 57.8, 56.71, 55.34, 54.37, 53.06, 52.77, 51.86, 51.68, 51.46, 51.06, 51.0, 51.06, 50.66, 50.37, 50.09, 49.91, 49.91, 49.69, 49.34, 49.29, 49.06, 49.06, 49.0, 48.89, 48.72, 48.43, 48.43, 48.32, 48.32, 48.26, 48.37, 48.32, 48.26, 48.32, 48.26, 48.26, 48.26, 48.26, 48.26, 48.26, 48.26, 48.26, 48.26, 48.2, 48.14, 48.14, 48.14, 48.14, 48.14, 48.14, 48.2, 48.14]\n",
      "[51.97, 51.97, 52.08, 52.71, 53.63, 55.11, 55.85, 55.91, 57.51, 59.28, 58.94, 59.74, 59.74, 58.77, 58.71, 58.02, 57.8, 57.34, 56.6, 55.17, 54.14, 53.74, 53.28, 52.94, 52.08, 51.8, 51.17, 50.54, 50.37, 50.14, 49.91, 49.57, 49.4, 49.17, 49.29, 49.34, 49.06, 49.11, 49.06, 48.83, 48.72, 48.72, 48.77, 48.66, 48.54, 48.49, 48.49, 48.43, 48.2, 48.14, 48.09, 48.03, 48.03, 48.03, 48.03, 48.03, 48.03, 48.03, 48.03, 48.03, 48.03, 48.09, 48.09, 48.09, 48.09, 48.09, 48.03, 48.03, 48.09]\n",
      "   dim    acc  param\n",
      "0   16  57.74    1.3\n",
      "1   32  60.14    1.3\n",
      "2   64  59.74    1.2\n"
     ]
    }
   ],
   "execution_count": 83
  },
  {
   "metadata": {
    "ExecuteTime": {
     "end_time": "2025-03-02T04:30:13.976128Z",
     "start_time": "2025-03-02T04:30:13.971066Z"
    }
   },
   "cell_type": "code",
   "source": "auto_sep.to_csv('auto_sep_mtrcs.csv', index=False, header=True)",
   "id": "855e5d7243e33640",
   "outputs": [],
   "execution_count": 85
  },
  {
   "metadata": {},
   "cell_type": "code",
   "outputs": [],
   "execution_count": null,
   "source": "",
   "id": "a468eec540434332"
  },
  {
   "metadata": {
    "ExecuteTime": {
     "end_time": "2025-03-01T23:19:02.805989Z",
     "start_time": "2025-03-01T23:19:02.799253Z"
    }
   },
   "cell_type": "code",
   "source": [
    "class VAE(nn.Module):\n",
    "    \"\"\"\n",
    "    Variational Autoencoder (VAE) class.\n",
    "    \n",
    "    Args:\n",
    "        input_dim (int): Dimensionality of the input data.\n",
    "        hidden_dim (int): Dimensionality of the hidden layer.\n",
    "        latent_dim (int): Dimensionality of the latent space.\n",
    "    \"\"\"\n",
    "    \n",
    "    def __init__(self, input_dim, hidden_dim, latent_dim):\n",
    "        super(VAE, self).__init__()\n",
    "                \n",
    "        self.encoder = nn.Sequential(\n",
    "            nn.Linear(input_dim, hidden_dim),\n",
    "            nn.SiLU(),  # Swish activation function\n",
    "            nn.Linear(hidden_dim, hidden_dim // 2),\n",
    "            nn.SiLU(),  # Swish activation function\n",
    "            nn.Linear(hidden_dim // 2, hidden_dim // 4),\n",
    "            nn.SiLU(),  # Swish activation function\n",
    "            nn.Linear(hidden_dim // 4, hidden_dim // 8),\n",
    "            nn.SiLU(),  # Swish activation function\n",
    "            nn.Linear(hidden_dim // 8, latent_dim*2), # 2 for mean and variance.\n",
    "        )\n",
    "        # self.parametr = nn.Linear(latent_dim, 2 * latent_dim)\n",
    "        self.softplus = nn.Softplus()\n",
    "        \n",
    "        self.decoder = nn.Sequential(\n",
    "            nn.Linear(latent_dim, hidden_dim // 8),\n",
    "            nn.SiLU(),  # Swish activation function\n",
    "            nn.Linear(hidden_dim // 8, hidden_dim // 4),\n",
    "            nn.SiLU(),  # Swish activation function\n",
    "            nn.Linear(hidden_dim // 4, hidden_dim // 2),\n",
    "            nn.SiLU(),  # Swish activation function\n",
    "            nn.Linear(hidden_dim // 2, hidden_dim),\n",
    "            nn.SiLU(),  # Swish activation function\n",
    "            nn.Linear(hidden_dim, input_dim),\n",
    "        )\n",
    "        \n",
    "    def encode(self, x, eps: float = 1e-8):\n",
    "        \"\"\"\n",
    "        Encodes the input data into the latent space.\n",
    "        \n",
    "        Args:\n",
    "            x (torch.Tensor): Input data.\n",
    "            eps (float): Small value to avoid numerical instability.\n",
    "        \n",
    "        Returns:\n",
    "            torch.distributions.MultivariateNormal: Normal distribution of the encoded data.\n",
    "        \"\"\"\n",
    "        x = self.encoder(x)\n",
    "        # x = self.parametr(lat_x)\n",
    "        mu, logvar = torch.chunk(x, 2, dim=-1)\n",
    "        scale = self.softplus(logvar) + eps\n",
    "        scale_tril = torch.diag_embed(scale)\n",
    "        \n",
    "        return torch.distributions.MultivariateNormal(mu, scale_tril=scale_tril)\n",
    "        \n",
    "    def reparameterize(self, dist):\n",
    "        \"\"\"\n",
    "        Reparameterizes the encoded data to sample from the latent space.\n",
    "        \n",
    "        Args:\n",
    "            dist (torch.distributions.MultivariateNormal): Normal distribution of the encoded data.\n",
    "        Returns:\n",
    "            torch.Tensor: Sampled data from the latent space.\n",
    "        \"\"\"\n",
    "        return dist.rsample()\n",
    "    \n",
    "    def decode(self, z):\n",
    "        \"\"\"\n",
    "        Decodes the data from the latent space to the original input space.\n",
    "        \n",
    "        Args:\n",
    "            z (torch.Tensor): Data in the latent space.\n",
    "        \n",
    "        Returns:\n",
    "            torch.Tensor: Reconstructed data in the original input space.\n",
    "        \"\"\"\n",
    "        return self.decoder(z)\n",
    "    \n",
    "    def forward(self, x):\n",
    "        \"\"\"\n",
    "        Performs a forward pass of the VAE.\n",
    "        \n",
    "        Args:\n",
    "            x (torch.Tensor): Input data.\n",
    "            compute_loss (bool): Whether to compute the loss or not.\n",
    "        \n",
    "        Returns:\n",
    "            VAEOutput: VAE output dataclass.\n",
    "        \"\"\"\n",
    "        dist = self.encode(x)\n",
    "        z = self.reparameterize(dist)\n",
    "        recon_x = self.decode(z)\n",
    "        \n",
    "        # compute loss terms \n",
    "        loss_recon = F.mse_loss(recon_x, x, reduction='none').sum(-1).sqrt()#.mean()\n",
    "        std_normal = torch.distributions.MultivariateNormal(\n",
    "            torch.zeros_like(z, device=z.device),\n",
    "            scale_tril=torch.eye(z.shape[-1], device=z.device).unsqueeze(0).expand(z.shape[0], -1, -1),\n",
    "        )\n",
    "        loss_kl = torch.distributions.kl.kl_divergence(dist, std_normal)#.mean()\n",
    "        # loss_kl = F.kl_div(z, lat_x, reduction='none').mean()\n",
    "                \n",
    "        loss = loss_recon + loss_kl\n",
    "        \n",
    "        return loss.mean(),loss_recon"
   ],
   "id": "5cf696a41cdfa9c7",
   "outputs": [],
   "execution_count": 70
  },
  {
   "metadata": {
    "ExecuteTime": {
     "end_time": "2025-03-01T23:19:15.057079Z",
     "start_time": "2025-03-01T23:19:15.053610Z"
    }
   },
   "cell_type": "code",
   "source": [
    "def sep_mod_acc_var(model1, model2, dataloader_test, er_mean_rat):\n",
    "    loss_fn = torch.nn.MSELoss(reduction='none')\n",
    "    model1.eval()\n",
    "    model2.eval()\n",
    "    trg = []\n",
    "    pred = []\n",
    "    acc_test = 0.0\n",
    "    tot_test = 0.0\n",
    "    big_ones = 0.0\n",
    "    tot_positive = 0.0\n",
    "    with torch.no_grad():\n",
    "        for itms in dataloader_test:\n",
    "            x=itms[0]\n",
    "            target=itms[1]\n",
    "            x = x.to(device)\n",
    "            target = target.to(device)\n",
    "            outputs, emb = model1(x)\n",
    "            err = model2(emb)[1]\n",
    "            error = err/5\n",
    "            acc_test += torch.sum(torch.where(error>er_mean_rat,1.,0.) == target).item() # what???\n",
    "            tot_test += target.size(0)\n",
    "            \n",
    "            \n",
    "            # outputs = outputs.sigmoid().max(dim=1).values\n",
    "\n",
    "        #     big_ones += torch.sum(outputs.round()).item()\n",
    "        #     pred.extend(outputs.round().cpu().tolist())\n",
    "        #     trg.extend(target.cpu().tolist())\n",
    "        #     tot_test += target.size(0)\n",
    "        #     tot_positive += torch.sum(target).item()\n",
    "        # print(f'{er_mean_rat}Test accuracy: {round(acc_test/tot_test*100,2)}%')\n",
    "        # print(f'Higher than 50%: {round(big_ones/tot_test*100,2)}%')\n",
    "        # print(f'Non-anomalies to total: {round(tot_positive/tot_test*100,2)}%')\n",
    "        \n",
    "    return round(acc_test/tot_test*100,2)#, round(big_ones/tot_test*100,2), pd.DataFrame({'true':trg, 'pred':pred})"
   ],
   "id": "5697cfb3a1eecb10",
   "outputs": [],
   "execution_count": 71
  },
  {
   "metadata": {
    "ExecuteTime": {
     "end_time": "2025-03-01T23:19:17.130436Z",
     "start_time": "2025-03-01T23:19:17.108151Z"
    }
   },
   "cell_type": "code",
   "source": [
    "model_auto = VAE(input_dim=512, hidden_dim=256, latent_dim=64).to(device)\n",
    "model_auto.load_state_dict(torch.load('best_model_var_autoenc64_resnet34.pt', map_location=device, weights_only=False))"
   ],
   "id": "2dff58c1081656a8",
   "outputs": [
    {
     "data": {
      "text/plain": [
       "<All keys matched successfully>"
      ]
     },
     "execution_count": 72,
     "metadata": {},
     "output_type": "execute_result"
    }
   ],
   "execution_count": 72
  },
  {
   "metadata": {
    "ExecuteTime": {
     "end_time": "2025-03-01T23:19:18.832389Z",
     "start_time": "2025-03-01T23:19:18.808470Z"
    }
   },
   "cell_type": "code",
   "source": [
    "x = torch.randn((4,512)).to(device)\n",
    "model_auto(x)"
   ],
   "id": "94f60f768e9c7595",
   "outputs": [
    {
     "data": {
      "text/plain": [
       "(tensor(22.8456, device='mps:0', grad_fn=<MeanBackward0>),\n",
       " tensor([22.1504, 22.8999, 23.1328, 23.1995], device='mps:0',\n",
       "        grad_fn=<SqrtBackward0>))"
      ]
     },
     "execution_count": 73,
     "metadata": {},
     "output_type": "execute_result"
    }
   ],
   "execution_count": 73
  },
  {
   "metadata": {
    "ExecuteTime": {
     "end_time": "2025-03-01T23:28:35.161648Z",
     "start_time": "2025-03-01T23:19:19.956489Z"
    }
   },
   "cell_type": "code",
   "source": [
    "res = []\n",
    "for i in range(1,150):\n",
    "    a  = sep_mod_acc_var(resnet34, model_auto, testDataLoader, i*.02)\n",
    "    res.append(a)\n",
    "    # print(a)\n",
    "max(res)"
   ],
   "id": "52432fcb6f398228",
   "outputs": [
    {
     "data": {
      "text/plain": [
       "68.08"
      ]
     },
     "execution_count": 74,
     "metadata": {},
     "output_type": "execute_result"
    }
   ],
   "execution_count": 74
  },
  {
   "metadata": {
    "ExecuteTime": {
     "end_time": "2025-03-02T02:16:22.401332Z",
     "start_time": "2025-03-02T02:16:22.397777Z"
    }
   },
   "cell_type": "code",
   "source": "res",
   "id": "bbdbc6534d3c8389",
   "outputs": [
    {
     "data": {
      "text/plain": [
       "[48.03,\n",
       " 48.03,\n",
       " 48.03,\n",
       " 48.03,\n",
       " 48.03,\n",
       " 48.03,\n",
       " 48.03,\n",
       " 48.03,\n",
       " 48.03,\n",
       " 48.03,\n",
       " 48.03,\n",
       " 48.03,\n",
       " 48.03,\n",
       " 48.03,\n",
       " 48.03,\n",
       " 48.03,\n",
       " 48.03,\n",
       " 48.03,\n",
       " 48.03,\n",
       " 48.09,\n",
       " 48.2,\n",
       " 48.37,\n",
       " 48.6,\n",
       " 48.89,\n",
       " 49.29,\n",
       " 49.46,\n",
       " 50.2,\n",
       " 51.4,\n",
       " 52.77,\n",
       " 54.83,\n",
       " 56.25,\n",
       " 57.97,\n",
       " 59.57,\n",
       " 60.82,\n",
       " 62.48,\n",
       " 63.74,\n",
       " 64.76,\n",
       " 65.39,\n",
       " 66.59,\n",
       " 66.25,\n",
       " 66.82,\n",
       " 67.68,\n",
       " 67.56,\n",
       " 67.73,\n",
       " 67.68,\n",
       " 67.62,\n",
       " 67.68,\n",
       " 67.79,\n",
       " 68.08,\n",
       " 67.39,\n",
       " 67.33,\n",
       " 67.16,\n",
       " 66.59,\n",
       " 66.3,\n",
       " 65.91,\n",
       " 65.45,\n",
       " 64.65,\n",
       " 63.68,\n",
       " 63.34,\n",
       " 62.88,\n",
       " 61.91,\n",
       " 61.45,\n",
       " 60.77,\n",
       " 60.08,\n",
       " 59.51,\n",
       " 59.17,\n",
       " 58.6,\n",
       " 58.2,\n",
       " 57.8,\n",
       " 57.34,\n",
       " 57.0,\n",
       " 56.65,\n",
       " 56.31,\n",
       " 55.91,\n",
       " 55.68,\n",
       " 55.17,\n",
       " 54.88,\n",
       " 54.48,\n",
       " 54.25,\n",
       " 53.74,\n",
       " 53.74,\n",
       " 53.57,\n",
       " 53.4,\n",
       " 53.28,\n",
       " 53.11,\n",
       " 52.88,\n",
       " 52.83,\n",
       " 52.71,\n",
       " 52.71,\n",
       " 52.66,\n",
       " 52.71,\n",
       " 52.71,\n",
       " 52.6,\n",
       " 52.6,\n",
       " 52.6,\n",
       " 52.6,\n",
       " 52.6,\n",
       " 52.6,\n",
       " 52.54,\n",
       " 52.43,\n",
       " 52.26,\n",
       " 52.26,\n",
       " 52.08,\n",
       " 52.08,\n",
       " 52.08,\n",
       " 52.08,\n",
       " 52.08,\n",
       " 52.08,\n",
       " 52.08,\n",
       " 52.08,\n",
       " 52.03,\n",
       " 51.97,\n",
       " 51.97,\n",
       " 51.97,\n",
       " 51.97,\n",
       " 51.97,\n",
       " 51.97,\n",
       " 51.97,\n",
       " 51.97,\n",
       " 51.97,\n",
       " 51.97,\n",
       " 51.97,\n",
       " 51.97,\n",
       " 51.97,\n",
       " 51.97,\n",
       " 51.97,\n",
       " 51.97,\n",
       " 51.97,\n",
       " 51.97,\n",
       " 51.97,\n",
       " 51.97,\n",
       " 51.97,\n",
       " 51.97,\n",
       " 51.97,\n",
       " 51.97,\n",
       " 51.97,\n",
       " 51.97,\n",
       " 51.97,\n",
       " 51.97,\n",
       " 51.97,\n",
       " 51.97,\n",
       " 51.97,\n",
       " 51.97,\n",
       " 51.97,\n",
       " 51.97,\n",
       " 51.97,\n",
       " 51.97,\n",
       " 51.97,\n",
       " 51.97]"
      ]
     },
     "execution_count": 75,
     "metadata": {},
     "output_type": "execute_result"
    }
   ],
   "execution_count": 75
  },
  {
   "metadata": {
    "ExecuteTime": {
     "end_time": "2025-03-02T03:10:39.293244Z",
     "start_time": "2025-03-02T03:10:39.271421Z"
    }
   },
   "cell_type": "code",
   "source": [
    "model_auto = VAE(input_dim=512, hidden_dim=256, latent_dim=32).to(device)\n",
    "model_auto.load_state_dict(torch.load('best_model_var_autoenc32_resnet34.pt', map_location=device, weights_only=False))"
   ],
   "id": "7b326e117978d05f",
   "outputs": [
    {
     "data": {
      "text/plain": [
       "<All keys matched successfully>"
      ]
     },
     "execution_count": 76,
     "metadata": {},
     "output_type": "execute_result"
    }
   ],
   "execution_count": 76
  },
  {
   "metadata": {
    "ExecuteTime": {
     "end_time": "2025-03-02T03:19:49.835619Z",
     "start_time": "2025-03-02T03:10:50.076847Z"
    }
   },
   "cell_type": "code",
   "source": [
    "res = []\n",
    "for i in range(1,150):\n",
    "    a  = sep_mod_acc_var(resnet34, model_auto, testDataLoader, i*.02)\n",
    "    res.append(a)\n",
    "    # print(a)\n",
    "max(res)"
   ],
   "id": "5049babe2b8f2465",
   "outputs": [
    {
     "data": {
      "text/plain": [
       "67.9"
      ]
     },
     "execution_count": 77,
     "metadata": {},
     "output_type": "execute_result"
    }
   ],
   "execution_count": 77
  },
  {
   "metadata": {
    "ExecuteTime": {
     "end_time": "2025-03-02T03:20:33.761359Z",
     "start_time": "2025-03-02T03:20:33.758507Z"
    }
   },
   "cell_type": "code",
   "source": "res",
   "id": "d55c50936c5c00c1",
   "outputs": [
    {
     "data": {
      "text/plain": [
       "[48.03,\n",
       " 48.03,\n",
       " 48.03,\n",
       " 48.03,\n",
       " 48.03,\n",
       " 48.03,\n",
       " 48.03,\n",
       " 48.03,\n",
       " 48.03,\n",
       " 48.03,\n",
       " 48.03,\n",
       " 48.03,\n",
       " 48.03,\n",
       " 48.03,\n",
       " 48.03,\n",
       " 48.03,\n",
       " 48.03,\n",
       " 48.03,\n",
       " 48.09,\n",
       " 48.14,\n",
       " 48.37,\n",
       " 48.66,\n",
       " 48.77,\n",
       " 49.17,\n",
       " 49.69,\n",
       " 49.86,\n",
       " 51.4,\n",
       " 52.94,\n",
       " 54.31,\n",
       " 56.2,\n",
       " 58.14,\n",
       " 59.62,\n",
       " 60.31,\n",
       " 61.68,\n",
       " 63.34,\n",
       " 64.48,\n",
       " 64.82,\n",
       " 65.96,\n",
       " 66.48,\n",
       " 67.1,\n",
       " 67.5,\n",
       " 67.9,\n",
       " 67.39,\n",
       " 67.5,\n",
       " 67.1,\n",
       " 67.68,\n",
       " 67.73,\n",
       " 67.62,\n",
       " 67.85,\n",
       " 67.73,\n",
       " 67.39,\n",
       " 66.53,\n",
       " 66.7,\n",
       " 66.42,\n",
       " 66.13,\n",
       " 65.73,\n",
       " 65.16,\n",
       " 63.74,\n",
       " 63.51,\n",
       " 62.82,\n",
       " 62.36,\n",
       " 61.85,\n",
       " 61.11,\n",
       " 60.19,\n",
       " 59.85,\n",
       " 59.22,\n",
       " 58.6,\n",
       " 58.31,\n",
       " 57.85,\n",
       " 57.62,\n",
       " 57.4,\n",
       " 57.05,\n",
       " 56.42,\n",
       " 56.03,\n",
       " 55.91,\n",
       " 55.34,\n",
       " 55.0,\n",
       " 54.6,\n",
       " 54.31,\n",
       " 54.03,\n",
       " 53.91,\n",
       " 53.68,\n",
       " 53.46,\n",
       " 53.28,\n",
       " 53.17,\n",
       " 53.0,\n",
       " 52.77,\n",
       " 52.71,\n",
       " 52.71,\n",
       " 52.71,\n",
       " 52.77,\n",
       " 52.71,\n",
       " 52.71,\n",
       " 52.66,\n",
       " 52.6,\n",
       " 52.6,\n",
       " 52.6,\n",
       " 52.6,\n",
       " 52.54,\n",
       " 52.48,\n",
       " 52.43,\n",
       " 52.31,\n",
       " 52.26,\n",
       " 52.14,\n",
       " 52.08,\n",
       " 52.08,\n",
       " 52.08,\n",
       " 52.08,\n",
       " 52.08,\n",
       " 52.03,\n",
       " 52.03,\n",
       " 52.03,\n",
       " 51.97,\n",
       " 51.97,\n",
       " 51.97,\n",
       " 51.97,\n",
       " 51.97,\n",
       " 51.97,\n",
       " 51.97,\n",
       " 51.97,\n",
       " 51.97,\n",
       " 51.97,\n",
       " 51.97,\n",
       " 51.97,\n",
       " 51.97,\n",
       " 51.97,\n",
       " 51.97,\n",
       " 51.97,\n",
       " 51.97,\n",
       " 51.97,\n",
       " 51.97,\n",
       " 51.97,\n",
       " 51.97,\n",
       " 51.97,\n",
       " 51.97,\n",
       " 51.97,\n",
       " 51.97,\n",
       " 51.97,\n",
       " 51.97,\n",
       " 51.97,\n",
       " 51.97,\n",
       " 51.97,\n",
       " 51.97,\n",
       " 51.97,\n",
       " 51.97,\n",
       " 51.97,\n",
       " 51.97,\n",
       " 51.97,\n",
       " 51.97]"
      ]
     },
     "execution_count": 78,
     "metadata": {},
     "output_type": "execute_result"
    }
   ],
   "execution_count": 78
  },
  {
   "metadata": {
    "ExecuteTime": {
     "end_time": "2025-03-02T03:22:09.138527Z",
     "start_time": "2025-03-02T03:22:09.116972Z"
    }
   },
   "cell_type": "code",
   "source": [
    "del model_auto\n",
    "model_auto = VAE(input_dim=512, hidden_dim=256, latent_dim=16).to(device)\n",
    "model_auto.load_state_dict(torch.load('best_model_var_autoenc16_resnet34.pt', map_location=device, weights_only=False))"
   ],
   "id": "b70d2bc724d5b7a5",
   "outputs": [
    {
     "data": {
      "text/plain": [
       "<All keys matched successfully>"
      ]
     },
     "execution_count": 80,
     "metadata": {},
     "output_type": "execute_result"
    }
   ],
   "execution_count": 80
  },
  {
   "metadata": {
    "ExecuteTime": {
     "end_time": "2025-03-02T03:30:55.578970Z",
     "start_time": "2025-03-02T03:22:09.826890Z"
    }
   },
   "cell_type": "code",
   "source": [
    "res = []\n",
    "for i in range(1,150):\n",
    "    a  = sep_mod_acc_var(resnet34, model_auto, testDataLoader, i*.02)\n",
    "    res.append(a)\n",
    "    # print(a)\n",
    "max(res)"
   ],
   "id": "438374d98b331283",
   "outputs": [
    {
     "data": {
      "text/plain": [
       "67.73"
      ]
     },
     "execution_count": 81,
     "metadata": {},
     "output_type": "execute_result"
    }
   ],
   "execution_count": 81
  },
  {
   "metadata": {
    "ExecuteTime": {
     "end_time": "2025-03-02T03:32:03.941399Z",
     "start_time": "2025-03-02T03:32:03.938545Z"
    }
   },
   "cell_type": "code",
   "source": "res",
   "id": "890a8d12085f1c08",
   "outputs": [
    {
     "data": {
      "text/plain": [
       "[48.03,\n",
       " 48.03,\n",
       " 48.03,\n",
       " 48.03,\n",
       " 48.03,\n",
       " 48.03,\n",
       " 48.03,\n",
       " 48.03,\n",
       " 48.03,\n",
       " 48.03,\n",
       " 48.03,\n",
       " 48.03,\n",
       " 48.03,\n",
       " 48.03,\n",
       " 48.03,\n",
       " 48.03,\n",
       " 48.03,\n",
       " 48.03,\n",
       " 48.09,\n",
       " 48.14,\n",
       " 48.32,\n",
       " 48.43,\n",
       " 48.66,\n",
       " 49.06,\n",
       " 49.46,\n",
       " 49.57,\n",
       " 50.94,\n",
       " 52.26,\n",
       " 53.57,\n",
       " 55.63,\n",
       " 57.17,\n",
       " 58.77,\n",
       " 60.25,\n",
       " 61.17,\n",
       " 62.71,\n",
       " 64.25,\n",
       " 64.88,\n",
       " 65.91,\n",
       " 66.7,\n",
       " 66.42,\n",
       " 67.39,\n",
       " 67.68,\n",
       " 67.5,\n",
       " 67.56,\n",
       " 67.39,\n",
       " 67.28,\n",
       " 67.62,\n",
       " 67.62,\n",
       " 67.73,\n",
       " 67.68,\n",
       " 67.45,\n",
       " 66.82,\n",
       " 66.65,\n",
       " 66.19,\n",
       " 66.02,\n",
       " 65.51,\n",
       " 64.59,\n",
       " 63.96,\n",
       " 63.22,\n",
       " 62.99,\n",
       " 61.91,\n",
       " 61.45,\n",
       " 61.05,\n",
       " 60.19,\n",
       " 59.62,\n",
       " 59.17,\n",
       " 58.6,\n",
       " 58.37,\n",
       " 57.91,\n",
       " 57.34,\n",
       " 57.22,\n",
       " 56.71,\n",
       " 56.37,\n",
       " 56.08,\n",
       " 55.85,\n",
       " 55.34,\n",
       " 55.0,\n",
       " 54.65,\n",
       " 54.25,\n",
       " 53.85,\n",
       " 53.68,\n",
       " 53.63,\n",
       " 53.51,\n",
       " 53.23,\n",
       " 53.23,\n",
       " 52.94,\n",
       " 52.77,\n",
       " 52.71,\n",
       " 52.71,\n",
       " 52.71,\n",
       " 52.71,\n",
       " 52.71,\n",
       " 52.66,\n",
       " 52.6,\n",
       " 52.6,\n",
       " 52.6,\n",
       " 52.6,\n",
       " 52.6,\n",
       " 52.6,\n",
       " 52.43,\n",
       " 52.43,\n",
       " 52.26,\n",
       " 52.14,\n",
       " 52.08,\n",
       " 52.08,\n",
       " 52.08,\n",
       " 52.08,\n",
       " 52.08,\n",
       " 52.08,\n",
       " 52.08,\n",
       " 52.03,\n",
       " 52.03,\n",
       " 51.97,\n",
       " 51.97,\n",
       " 51.97,\n",
       " 51.97,\n",
       " 51.97,\n",
       " 51.97,\n",
       " 51.97,\n",
       " 51.97,\n",
       " 51.97,\n",
       " 51.97,\n",
       " 51.97,\n",
       " 51.97,\n",
       " 51.97,\n",
       " 51.97,\n",
       " 51.97,\n",
       " 51.97,\n",
       " 51.97,\n",
       " 51.97,\n",
       " 51.97,\n",
       " 51.97,\n",
       " 51.97,\n",
       " 51.97,\n",
       " 51.97,\n",
       " 51.97,\n",
       " 51.97,\n",
       " 51.97,\n",
       " 51.97,\n",
       " 51.97,\n",
       " 51.97,\n",
       " 51.97,\n",
       " 51.97,\n",
       " 51.97,\n",
       " 51.97,\n",
       " 51.97,\n",
       " 51.97,\n",
       " 51.97,\n",
       " 51.97]"
      ]
     },
     "execution_count": 82,
     "metadata": {},
     "output_type": "execute_result"
    }
   ],
   "execution_count": 82
  },
  {
   "metadata": {
    "ExecuteTime": {
     "end_time": "2025-03-02T04:27:52.739187Z",
     "start_time": "2025-03-02T04:00:54.261893Z"
    }
   },
   "cell_type": "code",
   "source": [
    "mtr = []\n",
    "\n",
    "for i in [16,32,64]:\n",
    "    del model_auto\n",
    "    model_auto = VAE(input_dim=512, hidden_dim=256, latent_dim=i).to(device)\n",
    "    model_auto.to(device)\n",
    "    model_auto.load_state_dict(torch.load(f'best_model_var_autoenc{i}_resnet34.pt', map_location=device, weights_only=False))\n",
    "    res = []\n",
    "    for j in range(1,150):\n",
    "        res.append((sep_mod_acc_var(resnet34, model_auto, testDataLoader, j*.02), j*0.02))\n",
    "    acc = [k[0] for k in res]\n",
    "    print(acc)\n",
    "    par = [k[1] for k in res]\n",
    "    acc_max = max(acc)\n",
    "    ind_max = acc.index(acc_max)\n",
    "    par_max = par[ind_max]\n",
    "    mtr.append((i,acc_max, par_max))\n",
    "    \n",
    "auto_var_sep = pd.DataFrame({'dim':[i[0] for i in mtr],'acc':[i[1] for i in mtr],'param':[i[2] for i in mtr]})\n",
    "print(auto_var_sep)"
   ],
   "id": "f0988d5185bdd6fe",
   "outputs": [
    {
     "name": "stdout",
     "output_type": "stream",
     "text": [
      "[48.03, 48.03, 48.03, 48.03, 48.03, 48.03, 48.03, 48.03, 48.03, 48.03, 48.03, 48.03, 48.03, 48.03, 48.03, 48.03, 48.03, 48.03, 48.09, 48.14, 48.32, 48.43, 48.66, 49.06, 49.46, 49.57, 50.94, 52.26, 53.51, 55.63, 57.17, 58.77, 60.25, 61.17, 62.76, 64.25, 64.88, 65.85, 66.7, 66.42, 67.39, 67.68, 67.5, 67.56, 67.39, 67.28, 67.62, 67.62, 67.73, 67.68, 67.45, 66.88, 66.65, 66.19, 66.02, 65.51, 64.59, 63.91, 63.28, 62.99, 61.91, 61.45, 61.05, 60.19, 59.62, 59.11, 58.6, 58.37, 57.91, 57.34, 57.22, 56.71, 56.37, 56.08, 55.85, 55.34, 55.0, 54.65, 54.25, 53.85, 53.68, 53.63, 53.51, 53.23, 53.23, 52.94, 52.77, 52.71, 52.71, 52.71, 52.71, 52.71, 52.66, 52.6, 52.6, 52.6, 52.6, 52.6, 52.6, 52.43, 52.48, 52.26, 52.14, 52.08, 52.08, 52.08, 52.08, 52.08, 52.08, 52.08, 52.03, 52.03, 51.97, 51.97, 51.97, 51.97, 51.97, 51.97, 51.97, 51.97, 51.97, 51.97, 51.97, 51.97, 51.97, 51.97, 51.97, 51.97, 51.97, 51.97, 51.97, 51.97, 51.97, 51.97, 51.97, 51.97, 51.97, 51.97, 51.97, 51.97, 51.97, 51.97, 51.97, 51.97, 51.97, 51.97, 51.97, 51.97, 51.97]\n",
      "[48.03, 48.03, 48.03, 48.03, 48.03, 48.03, 48.03, 48.03, 48.03, 48.03, 48.03, 48.03, 48.03, 48.03, 48.03, 48.03, 48.03, 48.03, 48.09, 48.14, 48.37, 48.66, 48.77, 49.17, 49.69, 49.86, 51.4, 52.94, 54.31, 56.2, 58.14, 59.62, 60.31, 61.68, 63.34, 64.48, 64.82, 65.96, 66.48, 67.1, 67.5, 67.9, 67.39, 67.5, 67.1, 67.68, 67.73, 67.62, 67.85, 67.73, 67.39, 66.53, 66.7, 66.42, 66.13, 65.73, 65.16, 63.74, 63.51, 62.82, 62.36, 61.85, 61.11, 60.19, 59.85, 59.22, 58.6, 58.31, 57.85, 57.62, 57.4, 57.05, 56.42, 56.03, 55.91, 55.34, 55.0, 54.6, 54.25, 54.03, 53.91, 53.68, 53.46, 53.28, 53.17, 53.0, 52.77, 52.71, 52.71, 52.71, 52.77, 52.71, 52.71, 52.66, 52.6, 52.6, 52.6, 52.6, 52.54, 52.48, 52.43, 52.31, 52.26, 52.14, 52.08, 52.08, 52.08, 52.08, 52.03, 52.03, 52.03, 52.03, 51.97, 51.97, 51.97, 51.97, 51.97, 51.97, 51.97, 51.97, 51.97, 51.97, 51.97, 51.97, 51.97, 51.97, 51.97, 51.97, 51.91, 51.97, 51.97, 51.97, 51.97, 51.97, 51.97, 51.97, 51.97, 51.97, 51.97, 51.97, 51.97, 51.97, 51.97, 51.97, 51.97, 51.97, 51.97, 51.97, 51.91]\n",
      "[48.03, 48.03, 48.03, 48.03, 48.03, 48.03, 48.03, 48.03, 48.03, 48.03, 48.03, 48.03, 48.03, 48.03, 48.03, 48.03, 48.03, 48.03, 48.03, 48.2, 48.32, 48.6, 48.72, 49.29, 49.57, 49.74, 51.23, 52.43, 53.85, 55.97, 57.45, 59.05, 60.08, 61.45, 62.48, 63.85, 64.82, 65.39, 66.42, 66.42, 67.28, 67.33, 67.33, 67.39, 66.7, 67.33, 67.56, 67.45, 67.62, 67.68, 66.82, 66.59, 66.25, 66.08, 66.08, 65.73, 64.48, 63.96, 63.51, 62.94, 62.25, 61.68, 60.82, 60.31, 59.85, 59.11, 58.42, 58.2, 57.85, 57.68, 57.22, 56.82, 56.42, 56.08, 55.85, 55.4, 55.0, 54.65, 54.31, 53.91, 53.8, 53.63, 53.63, 53.23, 53.17, 52.94, 52.83, 52.71, 52.71, 52.71, 52.71, 52.71, 52.66, 52.6, 52.6, 52.6, 52.6, 52.6, 52.6, 52.48, 52.37, 52.31, 52.26, 52.14, 52.08, 52.08, 52.08, 52.08, 52.08, 52.08, 52.03, 52.03, 51.97, 51.97, 51.97, 51.97, 51.97, 51.97, 51.97, 51.97, 51.97, 51.97, 51.97, 51.97, 51.97, 51.97, 51.97, 51.97, 51.97, 51.97, 51.97, 51.97, 51.97, 51.97, 51.97, 51.97, 51.97, 51.97, 51.97, 51.97, 51.97, 51.97, 51.97, 51.97, 51.97, 51.97, 51.97, 51.97, 51.97]\n",
      "   dim    acc  param\n",
      "0   16  67.73   0.98\n",
      "1   32  67.90   0.84\n",
      "2   64  67.68   1.00\n"
     ]
    }
   ],
   "execution_count": 84
  },
  {
   "metadata": {
    "ExecuteTime": {
     "end_time": "2025-03-02T04:30:50.134861Z",
     "start_time": "2025-03-02T04:30:50.132327Z"
    }
   },
   "cell_type": "code",
   "source": "auto_var_sep.to_csv('auto_var_sep.csv',index=False, header=True)",
   "id": "ff8935030e0c9c5a",
   "outputs": [],
   "execution_count": 86
  },
  {
   "metadata": {},
   "cell_type": "code",
   "outputs": [],
   "execution_count": null,
   "source": "",
   "id": "4008963751c06f20"
  }
 ],
 "metadata": {
  "kernelspec": {
   "display_name": "Python 3",
   "language": "python",
   "name": "python3"
  },
  "language_info": {
   "codemirror_mode": {
    "name": "ipython",
    "version": 2
   },
   "file_extension": ".py",
   "mimetype": "text/x-python",
   "name": "python",
   "nbconvert_exporter": "python",
   "pygments_lexer": "ipython2",
   "version": "2.7.6"
  }
 },
 "nbformat": 4,
 "nbformat_minor": 5
}
