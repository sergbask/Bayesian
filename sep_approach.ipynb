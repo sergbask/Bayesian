{
 "cells": [
  {
   "cell_type": "code",
   "id": "initial_id",
   "metadata": {
    "collapsed": true,
    "ExecuteTime": {
     "end_time": "2025-02-22T18:32:58.740938Z",
     "start_time": "2025-02-22T18:32:58.737511Z"
    }
   },
   "source": [
    "import torch\n",
    "import torch.nn as nn\n",
    "from torchvision import transforms\n",
    "from torchvision import models\n",
    "from torch.utils.data import Dataset, DataLoader\n",
    "from torchvision.datasets import ImageFolder\n",
    "from datasets import Dataset, load_from_disk\n",
    "import torch.nn.functional as F\n",
    "\n",
    "import numpy as np\n",
    "import pandas as pd"
   ],
   "outputs": [],
   "execution_count": 3
  },
  {
   "metadata": {
    "ExecuteTime": {
     "end_time": "2025-02-22T18:32:58.756157Z",
     "start_time": "2025-02-22T18:32:58.754007Z"
    }
   },
   "cell_type": "code",
   "source": [
    "device = (\n",
    "    \"cuda\"\n",
    "    if torch.cuda.is_available()\n",
    "    else \"mps\"\n",
    "    if torch.backends.mps.is_available()\n",
    "    else \"cpu\"\n",
    ")\n",
    "print(f\"Using {device} device\")"
   ],
   "id": "991aab753971d136",
   "outputs": [
    {
     "name": "stdout",
     "output_type": "stream",
     "text": [
      "Using mps device\n"
     ]
    }
   ],
   "execution_count": 4
  },
  {
   "metadata": {
    "ExecuteTime": {
     "end_time": "2025-02-22T18:32:58.765008Z",
     "start_time": "2025-02-22T18:32:58.763439Z"
    }
   },
   "cell_type": "code",
   "source": "path_final_test = './data/final_test/'",
   "id": "6029196943079424",
   "outputs": [],
   "execution_count": 5
  },
  {
   "metadata": {
    "ExecuteTime": {
     "end_time": "2025-02-22T18:32:58.768830Z",
     "start_time": "2025-02-22T18:32:58.767324Z"
    }
   },
   "cell_type": "code",
   "source": "BATCH_SIZE = 128",
   "id": "dd136f4dd001ad15",
   "outputs": [],
   "execution_count": 6
  },
  {
   "metadata": {
    "ExecuteTime": {
     "end_time": "2025-02-22T18:32:58.780892Z",
     "start_time": "2025-02-22T18:32:58.778894Z"
    }
   },
   "cell_type": "code",
   "source": "preprocess = transforms.Compose([transforms.Resize(256), transforms.CenterCrop(224), transforms.ToTensor(), transforms.Normalize(mean=[0.485, 0.456, 0.406],  std=[0.229, 0.224, 0.225])])",
   "id": "a07b6e36f80f6a71",
   "outputs": [],
   "execution_count": 7
  },
  {
   "metadata": {
    "ExecuteTime": {
     "end_time": "2025-02-22T18:32:58.786170Z",
     "start_time": "2025-02-22T18:32:58.781714Z"
    }
   },
   "cell_type": "code",
   "source": "test_dataset = ImageFolder(path_final_test, preprocess)",
   "id": "9cdd17c57c8a68c5",
   "outputs": [],
   "execution_count": 8
  },
  {
   "metadata": {
    "ExecuteTime": {
     "end_time": "2025-02-22T18:32:58.796590Z",
     "start_time": "2025-02-22T18:32:58.793785Z"
    }
   },
   "cell_type": "code",
   "source": "test_dataset",
   "id": "6522743d1156c425",
   "outputs": [
    {
     "data": {
      "text/plain": [
       "Dataset ImageFolder\n",
       "    Number of datapoints: 1751\n",
       "    Root location: ./data/final_test/\n",
       "    StandardTransform\n",
       "Transform: Compose(\n",
       "               Resize(size=256, interpolation=bilinear, max_size=None, antialias=True)\n",
       "               CenterCrop(size=(224, 224))\n",
       "               ToTensor()\n",
       "               Normalize(mean=[0.485, 0.456, 0.406], std=[0.229, 0.224, 0.225])\n",
       "           )"
      ]
     },
     "execution_count": 9,
     "metadata": {},
     "output_type": "execute_result"
    }
   ],
   "execution_count": 9
  },
  {
   "metadata": {
    "ExecuteTime": {
     "end_time": "2025-02-22T18:32:58.803541Z",
     "start_time": "2025-02-22T18:32:58.801962Z"
    }
   },
   "cell_type": "code",
   "source": "testDataLoader = DataLoader(test_dataset, batch_size=BATCH_SIZE, shuffle=True)",
   "id": "e52db9de1dd3f03e",
   "outputs": [],
   "execution_count": 10
  },
  {
   "metadata": {
    "ExecuteTime": {
     "end_time": "2025-02-22T18:32:58.931689Z",
     "start_time": "2025-02-22T18:32:58.804317Z"
    }
   },
   "cell_type": "code",
   "source": "next(iter(testDataLoader))[1]",
   "id": "4df709ccf4f1758b",
   "outputs": [
    {
     "data": {
      "text/plain": [
       "tensor([0, 1, 0, 0, 1, 0, 0, 0, 1, 1, 1, 0, 1, 1, 0, 0, 1, 0, 1, 0, 0, 1, 0, 0,\n",
       "        1, 1, 1, 0, 1, 1, 1, 0, 1, 0, 0, 1, 0, 0, 1, 0, 0, 1, 1, 1, 1, 1, 0, 0,\n",
       "        0, 1, 1, 0, 0, 1, 0, 1, 0, 0, 0, 1, 1, 0, 0, 0, 1, 1, 1, 0, 1, 0, 1, 0,\n",
       "        0, 0, 0, 1, 1, 1, 0, 1, 0, 0, 0, 0, 1, 0, 0, 0, 1, 1, 0, 1, 1, 0, 1, 0,\n",
       "        1, 1, 0, 1, 1, 0, 0, 1, 1, 1, 1, 0, 1, 0, 0, 1, 1, 0, 1, 1, 0, 0, 1, 0,\n",
       "        0, 1, 1, 1, 0, 1, 0, 1])"
      ]
     },
     "execution_count": 11,
     "metadata": {},
     "output_type": "execute_result"
    }
   ],
   "execution_count": 11
  },
  {
   "metadata": {
    "ExecuteTime": {
     "end_time": "2025-02-22T18:32:59.346688Z",
     "start_time": "2025-02-22T18:32:58.932513Z"
    }
   },
   "cell_type": "code",
   "source": [
    "resnet34 = models.resnet34(weights=None)\n",
    "class CustomFC(nn.Module):\n",
    "    def __init__(self, in_features, out_features):\n",
    "        super().__init__()\n",
    "        self.in_features = in_features\n",
    "        self.out_features = out_features\n",
    "        self.fc1 = nn.Linear(in_features=in_features, out_features=out_features)\n",
    "        \n",
    "    def forward(self, x):\n",
    "        return self.fc1(x), x\n",
    "    \n",
    "resnet34.fc = CustomFC(512,8)\n",
    "resnet34.to(device)\n",
    "\n",
    "resnet34.load_state_dict(torch.load('model_best_resnet34.pt', map_location=device, weights_only=False))"
   ],
   "id": "5631019184d2569e",
   "outputs": [
    {
     "data": {
      "text/plain": [
       "<All keys matched successfully>"
      ]
     },
     "execution_count": 12,
     "metadata": {},
     "output_type": "execute_result"
    }
   ],
   "execution_count": 12
  },
  {
   "metadata": {
    "ExecuteTime": {
     "end_time": "2025-02-22T18:32:59.349701Z",
     "start_time": "2025-02-22T18:32:59.347316Z"
    }
   },
   "cell_type": "code",
   "source": [
    "class AutoEncoder(torch.nn.Module):\n",
    "    def __init__(self, n, m, p, b):\n",
    "        super().__init__()\n",
    "        self.e1 = torch.nn.Linear(n, m)\n",
    "        self.e2 = torch.nn.Linear(m, p)\n",
    "        self.e3 = torch.nn.Linear(p, b)\n",
    "        self.dec3 = torch.nn.Linear(b, p)\n",
    "        self.dec2 = torch.nn.Linear(p, m)\n",
    "        self.dec1 = torch.nn.Linear(m, n)\n",
    "        \n",
    "    def forward(self, x):\n",
    "        x = self.e1(x)\n",
    "        x = self.e2(F.relu(x))\n",
    "        encoded = self.e3(F.relu(x))\n",
    "        x = self.dec3(encoded)\n",
    "        x = self.dec2(F.relu(x))\n",
    "        x = self.dec1(F.relu(x))\n",
    "        return x"
   ],
   "id": "a8f8c0cdafa61761",
   "outputs": [],
   "execution_count": 13
  },
  {
   "metadata": {
    "ExecuteTime": {
     "end_time": "2025-02-22T18:35:37.430536Z",
     "start_time": "2025-02-22T18:35:37.410387Z"
    }
   },
   "cell_type": "code",
   "source": [
    "del model_auto\n",
    "\n",
    "model_auto = AutoEncoder(512, 256, 128, 32)\n",
    "model_auto.to(device)\n",
    "model_auto.load_state_dict(torch.load('best_model_autoenc32_resnet34.pt', map_location=device, weights_only=False))"
   ],
   "id": "8e07f9d7d97b0b8c",
   "outputs": [
    {
     "data": {
      "text/plain": [
       "<All keys matched successfully>"
      ]
     },
     "execution_count": 17,
     "metadata": {},
     "output_type": "execute_result"
    }
   ],
   "execution_count": 17
  },
  {
   "metadata": {
    "ExecuteTime": {
     "end_time": "2025-02-22T18:35:38.726267Z",
     "start_time": "2025-02-22T18:35:38.724155Z"
    }
   },
   "cell_type": "code",
   "source": "",
   "id": "9da3cd6817400f61",
   "outputs": [],
   "execution_count": 17
  },
  {
   "metadata": {
    "ExecuteTime": {
     "end_time": "2025-02-22T18:35:39.568889Z",
     "start_time": "2025-02-22T18:35:39.566150Z"
    }
   },
   "cell_type": "code",
   "source": [
    "def sep_mod_acc(model1, model2, dataloader_test, er_mean_rat):\n",
    "    loss_fn = torch.nn.MSELoss(reduction='none')\n",
    "    model1.eval()\n",
    "    model2.eval()\n",
    "    trg = []\n",
    "    pred = []\n",
    "    acc_test = 0.0\n",
    "    tot_test = 0.0\n",
    "    big_ones = 0.0\n",
    "    tot_positive = 0.0\n",
    "    with torch.no_grad():\n",
    "        for itms in dataloader_test:\n",
    "            x=itms[0]\n",
    "            target=itms[1]\n",
    "            x = x.to(device)\n",
    "            target = target.to(device)\n",
    "            outputs, emb = model1(x)\n",
    "            x_pr = model2(emb)\n",
    "            error = torch.mean(loss_fn(x_pr, emb), dim=1)/0.0026712\n",
    "            acc_test += torch.sum(torch.where(error>er_mean_rat,0,1) == target).item()\n",
    "            tot_test += target.size(0)\n",
    "            \n",
    "            \n",
    "            # outputs = outputs.sigmoid().max(dim=1).values\n",
    "\n",
    "        #     big_ones += torch.sum(outputs.round()).item()\n",
    "        #     pred.extend(outputs.round().cpu().tolist())\n",
    "        #     trg.extend(target.cpu().tolist())\n",
    "        #     tot_test += target.size(0)\n",
    "        #     tot_positive += torch.sum(target).item()\n",
    "        # print(f'{er_mean_rat}Test accuracy: {round(acc_test/tot_test*100,2)}%')\n",
    "        # print(f'Higher than 50%: {round(big_ones/tot_test*100,2)}%')\n",
    "        # print(f'Non-anomalies to total: {round(tot_positive/tot_test*100,2)}%')\n",
    "        \n",
    "    return round(acc_test/tot_test*100,2)#, round(big_ones/tot_test*100,2), pd.DataFrame({'true':trg, 'pred':pred})"
   ],
   "id": "a76986792c46f8e",
   "outputs": [],
   "execution_count": 18
  },
  {
   "metadata": {
    "ExecuteTime": {
     "end_time": "2025-02-22T18:37:22.106896Z",
     "start_time": "2025-02-22T18:35:40.343354Z"
    }
   },
   "cell_type": "code",
   "source": [
    "res = []\n",
    "for i in range(1,30):\n",
    "    res.append(sep_mod_acc(resnet34, model_auto, testDataLoader, i*.1))\n",
    "max(res)\n"
   ],
   "id": "e98b1752ec6b9930",
   "outputs": [
    {
     "data": {
      "text/plain": [
       "60.14"
      ]
     },
     "execution_count": 19,
     "metadata": {},
     "output_type": "execute_result"
    }
   ],
   "execution_count": 19
  },
  {
   "metadata": {
    "ExecuteTime": {
     "end_time": "2025-02-22T18:34:39.820423Z",
     "start_time": "2025-02-22T18:34:39.819284Z"
    }
   },
   "cell_type": "code",
   "source": "",
   "id": "5f67c803c78de824",
   "outputs": [],
   "execution_count": 16
  }
 ],
 "metadata": {
  "kernelspec": {
   "display_name": "Python 3",
   "language": "python",
   "name": "python3"
  },
  "language_info": {
   "codemirror_mode": {
    "name": "ipython",
    "version": 2
   },
   "file_extension": ".py",
   "mimetype": "text/x-python",
   "name": "python",
   "nbconvert_exporter": "python",
   "pygments_lexer": "ipython2",
   "version": "2.7.6"
  }
 },
 "nbformat": 4,
 "nbformat_minor": 5
}
