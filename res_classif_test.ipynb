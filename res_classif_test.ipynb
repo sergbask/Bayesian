{
 "cells": [
  {
   "cell_type": "code",
   "id": "initial_id",
   "metadata": {
    "collapsed": true,
    "ExecuteTime": {
     "end_time": "2025-03-11T01:43:55.464619Z",
     "start_time": "2025-03-11T01:43:53.609338Z"
    }
   },
   "source": [
    "import torch\n",
    "import torch.nn as nn\n",
    "from torchvision import transforms\n",
    "from torchvision import models\n",
    "from torch.utils.data import Dataset, DataLoader\n",
    "from torchvision.datasets import ImageFolder\n",
    "from datasets import Dataset, load_from_disk\n",
    "import torch.nn.functional as F\n",
    "\n",
    "import numpy as np\n",
    "import pandas as pd"
   ],
   "outputs": [],
   "execution_count": 1
  },
  {
   "metadata": {
    "ExecuteTime": {
     "end_time": "2025-03-11T01:43:55.479100Z",
     "start_time": "2025-03-11T01:43:55.465580Z"
    }
   },
   "cell_type": "code",
   "source": [
    "device = (\n",
    "    \"cuda\"\n",
    "    if torch.cuda.is_available()\n",
    "    else \"mps\"\n",
    "    if torch.backends.mps.is_available()\n",
    "    else \"cpu\"\n",
    ")\n",
    "print(f\"Using {device} device\")"
   ],
   "id": "991aab753971d136",
   "outputs": [
    {
     "name": "stdout",
     "output_type": "stream",
     "text": [
      "Using mps device\n"
     ]
    }
   ],
   "execution_count": 2
  },
  {
   "metadata": {
    "ExecuteTime": {
     "end_time": "2025-03-11T01:43:55.480978Z",
     "start_time": "2025-03-11T01:43:55.479568Z"
    }
   },
   "cell_type": "code",
   "source": "path_final_test = './data/out_classif_test/'",
   "id": "6029196943079424",
   "outputs": [],
   "execution_count": 3
  },
  {
   "metadata": {
    "ExecuteTime": {
     "end_time": "2025-03-11T01:43:55.686719Z",
     "start_time": "2025-03-11T01:43:55.684983Z"
    }
   },
   "cell_type": "code",
   "source": "BATCH_SIZE = 128",
   "id": "dd136f4dd001ad15",
   "outputs": [],
   "execution_count": 4
  },
  {
   "metadata": {
    "ExecuteTime": {
     "end_time": "2025-03-11T01:43:56.328951Z",
     "start_time": "2025-03-11T01:43:56.326374Z"
    }
   },
   "cell_type": "code",
   "source": "preprocess = transforms.Compose([transforms.Resize(256), transforms.CenterCrop(224), transforms.ToTensor(), transforms.Normalize(mean=[0.485, 0.456, 0.406],  std=[0.229, 0.224, 0.225])])",
   "id": "a07b6e36f80f6a71",
   "outputs": [],
   "execution_count": 5
  },
  {
   "metadata": {
    "ExecuteTime": {
     "end_time": "2025-03-11T01:43:57.002138Z",
     "start_time": "2025-03-11T01:43:56.997466Z"
    }
   },
   "cell_type": "code",
   "source": "test_dataset = ImageFolder(path_final_test, preprocess)",
   "id": "9cdd17c57c8a68c5",
   "outputs": [],
   "execution_count": 6
  },
  {
   "metadata": {
    "ExecuteTime": {
     "end_time": "2025-03-11T01:43:57.661760Z",
     "start_time": "2025-03-11T01:43:57.657612Z"
    }
   },
   "cell_type": "code",
   "source": "test_dataset",
   "id": "6522743d1156c425",
   "outputs": [
    {
     "data": {
      "text/plain": [
       "Dataset ImageFolder\n",
       "    Number of datapoints: 959\n",
       "    Root location: ./data/out_classif_test/\n",
       "    StandardTransform\n",
       "Transform: Compose(\n",
       "               Resize(size=256, interpolation=bilinear, max_size=None, antialias=True)\n",
       "               CenterCrop(size=(224, 224))\n",
       "               ToTensor()\n",
       "               Normalize(mean=[0.485, 0.456, 0.406], std=[0.229, 0.224, 0.225])\n",
       "           )"
      ]
     },
     "execution_count": 7,
     "metadata": {},
     "output_type": "execute_result"
    }
   ],
   "execution_count": 7
  },
  {
   "metadata": {
    "ExecuteTime": {
     "end_time": "2025-03-11T01:43:58.160598Z",
     "start_time": "2025-03-11T01:43:58.158776Z"
    }
   },
   "cell_type": "code",
   "source": "testDataLoader = DataLoader(test_dataset, batch_size=BATCH_SIZE, shuffle=True)",
   "id": "e52db9de1dd3f03e",
   "outputs": [],
   "execution_count": 8
  },
  {
   "metadata": {
    "ExecuteTime": {
     "end_time": "2025-03-11T01:43:59.057128Z",
     "start_time": "2025-03-11T01:43:58.862191Z"
    }
   },
   "cell_type": "code",
   "source": "next(iter(testDataLoader))[1]",
   "id": "4df709ccf4f1758b",
   "outputs": [
    {
     "data": {
      "text/plain": [
       "tensor([1, 4, 2, 4, 4, 1, 5, 5, 1, 7, 3, 0, 7, 5, 5, 4, 0, 3, 8, 0, 8, 1, 4, 2,\n",
       "        3, 8, 8, 8, 4, 4, 8, 8, 1, 7, 5, 6, 4, 6, 1, 2, 3, 8, 3, 1, 6, 2, 6, 8,\n",
       "        4, 0, 8, 2, 4, 0, 4, 1, 8, 5, 4, 8, 5, 1, 0, 5, 1, 4, 5, 1, 8, 2, 4, 4,\n",
       "        7, 0, 4, 4, 7, 4, 7, 3, 0, 7, 4, 1, 8, 0, 1, 0, 7, 6, 0, 2, 2, 5, 2, 6,\n",
       "        8, 5, 7, 2, 6, 8, 5, 4, 1, 8, 6, 3, 8, 3, 5, 5, 4, 5, 2, 3, 7, 3, 0, 6,\n",
       "        6, 6, 2, 5, 8, 3, 8, 4])"
      ]
     },
     "execution_count": 9,
     "metadata": {},
     "output_type": "execute_result"
    }
   ],
   "execution_count": 9
  },
  {
   "metadata": {},
   "cell_type": "markdown",
   "source": "## Naive:",
   "id": "93fe3fe669e52510"
  },
  {
   "metadata": {
    "ExecuteTime": {
     "end_time": "2025-03-11T01:44:00.758617Z",
     "start_time": "2025-03-11T01:44:00.415629Z"
    }
   },
   "cell_type": "code",
   "source": [
    "resnet34 = models.resnet34(weights=None)\n",
    "class CustomFC(nn.Module):\n",
    "    def __init__(self, in_features, out_features):\n",
    "        super().__init__()\n",
    "        self.in_features = in_features\n",
    "        self.out_features = out_features\n",
    "        self.fc1 = nn.Linear(in_features=in_features, out_features=out_features)\n",
    "        \n",
    "    def forward(self, x):\n",
    "        return self.fc1(x), x\n",
    "    \n",
    "resnet34.fc = CustomFC(512,8)\n",
    "resnet34.to(device)\n",
    "\n",
    "resnet34.load_state_dict(torch.load('model_best_resnet34.pt', map_location=device, weights_only=False))"
   ],
   "id": "5631019184d2569e",
   "outputs": [
    {
     "data": {
      "text/plain": [
       "<All keys matched successfully>"
      ]
     },
     "execution_count": 10,
     "metadata": {},
     "output_type": "execute_result"
    }
   ],
   "execution_count": 10
  },
  {
   "metadata": {
    "ExecuteTime": {
     "end_time": "2025-03-11T01:44:01.467488Z",
     "start_time": "2025-03-11T01:44:01.462350Z"
    }
   },
   "cell_type": "code",
   "source": [
    "def naive_mod_acc(model, dataloader_test, add_class=True):\n",
    "    model.eval()\n",
    "    trg = []\n",
    "    pred = []\n",
    "    acc_test = 0.0\n",
    "    tot_test = 0.0\n",
    "    big_ones = 0.0\n",
    "    tot_positive = 0.0\n",
    "    with torch.no_grad():\n",
    "        for itms in dataloader_test:\n",
    "            x=itms[0]\n",
    "            target=itms[1]\n",
    "            x = x.to(device)\n",
    "            target = target.to(device)\n",
    "            outputs, _ = model(x)\n",
    "            outputs = outputs.sigmoid().max(dim=-1)\n",
    "            if add_class:\n",
    "                outputs_f = torch.where(outputs.values >=0.5, outputs.indices, 8)\n",
    "            else:\n",
    "                outputs_f = torch.where(outputs.values >=0.5, outputs.indices, outputs.indices)\n",
    "            # print(outputs.shape)\n",
    "            acc_test += torch.sum(outputs_f == target).item()\n",
    "            # big_ones += torch.sum(outputs.round()).item()\n",
    "            pred.extend(outputs_f.round().cpu().tolist())\n",
    "            trg.extend(target.cpu().tolist())\n",
    "            tot_test += target.size(0)\n",
    "            tot_positive += torch.sum(target).item()\n",
    "        print(f'Test accuracy: {round(acc_test/tot_test*100,2)}%')\n",
    "        # print(f'Higher than 50%: {round(big_ones/tot_test*100,2)}%')\n",
    "        # print(f'Non-anomalies to total: {round(tot_positive/tot_test*100,2)}%')\n",
    "        \n",
    "    return round(acc_test/tot_test*100,2), round(big_ones/tot_test*100,2), pd.DataFrame({'true':trg, 'pred':pred})"
   ],
   "id": "a76986792c46f8e",
   "outputs": [],
   "execution_count": 11
  },
  {
   "metadata": {
    "ExecuteTime": {
     "end_time": "2025-03-11T01:44:04.622193Z",
     "start_time": "2025-03-11T01:44:02.447889Z"
    }
   },
   "cell_type": "code",
   "source": [
    "_,_, res = naive_mod_acc(resnet34, testDataLoader)\n",
    "res"
   ],
   "id": "e98b1752ec6b9930",
   "outputs": [
    {
     "name": "stdout",
     "output_type": "stream",
     "text": [
      "Test accuracy: 81.96%\n"
     ]
    },
    {
     "data": {
      "text/plain": [
       "     true  pred\n",
       "0       8     5\n",
       "1       4     4\n",
       "2       8     8\n",
       "3       1     1\n",
       "4       5     5\n",
       "..    ...   ...\n",
       "954     6     6\n",
       "955     5     5\n",
       "956     8     6\n",
       "957     1     1\n",
       "958     1     1\n",
       "\n",
       "[959 rows x 2 columns]"
      ],
      "text/html": [
       "<div>\n",
       "<style scoped>\n",
       "    .dataframe tbody tr th:only-of-type {\n",
       "        vertical-align: middle;\n",
       "    }\n",
       "\n",
       "    .dataframe tbody tr th {\n",
       "        vertical-align: top;\n",
       "    }\n",
       "\n",
       "    .dataframe thead th {\n",
       "        text-align: right;\n",
       "    }\n",
       "</style>\n",
       "<table border=\"1\" class=\"dataframe\">\n",
       "  <thead>\n",
       "    <tr style=\"text-align: right;\">\n",
       "      <th></th>\n",
       "      <th>true</th>\n",
       "      <th>pred</th>\n",
       "    </tr>\n",
       "  </thead>\n",
       "  <tbody>\n",
       "    <tr>\n",
       "      <th>0</th>\n",
       "      <td>8</td>\n",
       "      <td>5</td>\n",
       "    </tr>\n",
       "    <tr>\n",
       "      <th>1</th>\n",
       "      <td>4</td>\n",
       "      <td>4</td>\n",
       "    </tr>\n",
       "    <tr>\n",
       "      <th>2</th>\n",
       "      <td>8</td>\n",
       "      <td>8</td>\n",
       "    </tr>\n",
       "    <tr>\n",
       "      <th>3</th>\n",
       "      <td>1</td>\n",
       "      <td>1</td>\n",
       "    </tr>\n",
       "    <tr>\n",
       "      <th>4</th>\n",
       "      <td>5</td>\n",
       "      <td>5</td>\n",
       "    </tr>\n",
       "    <tr>\n",
       "      <th>...</th>\n",
       "      <td>...</td>\n",
       "      <td>...</td>\n",
       "    </tr>\n",
       "    <tr>\n",
       "      <th>954</th>\n",
       "      <td>6</td>\n",
       "      <td>6</td>\n",
       "    </tr>\n",
       "    <tr>\n",
       "      <th>955</th>\n",
       "      <td>5</td>\n",
       "      <td>5</td>\n",
       "    </tr>\n",
       "    <tr>\n",
       "      <th>956</th>\n",
       "      <td>8</td>\n",
       "      <td>6</td>\n",
       "    </tr>\n",
       "    <tr>\n",
       "      <th>957</th>\n",
       "      <td>1</td>\n",
       "      <td>1</td>\n",
       "    </tr>\n",
       "    <tr>\n",
       "      <th>958</th>\n",
       "      <td>1</td>\n",
       "      <td>1</td>\n",
       "    </tr>\n",
       "  </tbody>\n",
       "</table>\n",
       "<p>959 rows × 2 columns</p>\n",
       "</div>"
      ]
     },
     "execution_count": 12,
     "metadata": {},
     "output_type": "execute_result"
    }
   ],
   "execution_count": 12
  },
  {
   "metadata": {
    "ExecuteTime": {
     "end_time": "2025-03-11T01:44:23.586629Z",
     "start_time": "2025-03-11T01:44:21.637923Z"
    }
   },
   "cell_type": "code",
   "source": [
    "_,_, res = naive_mod_acc(resnet34, testDataLoader, False)\n",
    "res"
   ],
   "id": "a60bce3654a60073",
   "outputs": [
    {
     "name": "stdout",
     "output_type": "stream",
     "text": [
      "Test accuracy: 82.27%\n"
     ]
    },
    {
     "data": {
      "text/plain": [
       "     true  pred\n",
       "0       6     6\n",
       "1       7     7\n",
       "2       6     6\n",
       "3       7     7\n",
       "4       8     1\n",
       "..    ...   ...\n",
       "954     1     1\n",
       "955     7     0\n",
       "956     1     1\n",
       "957     4     4\n",
       "958     1     1\n",
       "\n",
       "[959 rows x 2 columns]"
      ],
      "text/html": [
       "<div>\n",
       "<style scoped>\n",
       "    .dataframe tbody tr th:only-of-type {\n",
       "        vertical-align: middle;\n",
       "    }\n",
       "\n",
       "    .dataframe tbody tr th {\n",
       "        vertical-align: top;\n",
       "    }\n",
       "\n",
       "    .dataframe thead th {\n",
       "        text-align: right;\n",
       "    }\n",
       "</style>\n",
       "<table border=\"1\" class=\"dataframe\">\n",
       "  <thead>\n",
       "    <tr style=\"text-align: right;\">\n",
       "      <th></th>\n",
       "      <th>true</th>\n",
       "      <th>pred</th>\n",
       "    </tr>\n",
       "  </thead>\n",
       "  <tbody>\n",
       "    <tr>\n",
       "      <th>0</th>\n",
       "      <td>6</td>\n",
       "      <td>6</td>\n",
       "    </tr>\n",
       "    <tr>\n",
       "      <th>1</th>\n",
       "      <td>7</td>\n",
       "      <td>7</td>\n",
       "    </tr>\n",
       "    <tr>\n",
       "      <th>2</th>\n",
       "      <td>6</td>\n",
       "      <td>6</td>\n",
       "    </tr>\n",
       "    <tr>\n",
       "      <th>3</th>\n",
       "      <td>7</td>\n",
       "      <td>7</td>\n",
       "    </tr>\n",
       "    <tr>\n",
       "      <th>4</th>\n",
       "      <td>8</td>\n",
       "      <td>1</td>\n",
       "    </tr>\n",
       "    <tr>\n",
       "      <th>...</th>\n",
       "      <td>...</td>\n",
       "      <td>...</td>\n",
       "    </tr>\n",
       "    <tr>\n",
       "      <th>954</th>\n",
       "      <td>1</td>\n",
       "      <td>1</td>\n",
       "    </tr>\n",
       "    <tr>\n",
       "      <th>955</th>\n",
       "      <td>7</td>\n",
       "      <td>0</td>\n",
       "    </tr>\n",
       "    <tr>\n",
       "      <th>956</th>\n",
       "      <td>1</td>\n",
       "      <td>1</td>\n",
       "    </tr>\n",
       "    <tr>\n",
       "      <th>957</th>\n",
       "      <td>4</td>\n",
       "      <td>4</td>\n",
       "    </tr>\n",
       "    <tr>\n",
       "      <th>958</th>\n",
       "      <td>1</td>\n",
       "      <td>1</td>\n",
       "    </tr>\n",
       "  </tbody>\n",
       "</table>\n",
       "<p>959 rows × 2 columns</p>\n",
       "</div>"
      ]
     },
     "execution_count": 13,
     "metadata": {},
     "output_type": "execute_result"
    }
   ],
   "execution_count": 13
  },
  {
   "metadata": {},
   "cell_type": "markdown",
   "source": "## Autoencoder",
   "id": "3d97a5a0e6a623b"
  },
  {
   "metadata": {
    "ExecuteTime": {
     "end_time": "2025-03-11T01:44:27.962656Z",
     "start_time": "2025-03-11T01:44:27.942592Z"
    }
   },
   "cell_type": "code",
   "source": [
    "class AutoEncoder(torch.nn.Module):\n",
    "    def __init__(self, n, m, p, b):\n",
    "        super().__init__()\n",
    "        self.e1 = torch.nn.Linear(n, m)\n",
    "        self.e2 = torch.nn.Linear(m, p)\n",
    "        self.e3 = torch.nn.Linear(p, b)\n",
    "        self.dec3 = torch.nn.Linear(b, p)\n",
    "        self.dec2 = torch.nn.Linear(p, m)\n",
    "        self.dec1 = torch.nn.Linear(m, n)\n",
    "        \n",
    "    def forward(self, x):\n",
    "        x = self.e1(x)\n",
    "        x = self.e2(F.relu(x))\n",
    "        encoded = self.e3(F.relu(x))\n",
    "        x = self.dec3(encoded)\n",
    "        x = self.dec2(F.relu(x))\n",
    "        x = self.dec1(F.relu(x))\n",
    "        return x\n",
    "\n",
    "model_auto = AutoEncoder(512, 256, 128, 32)\n",
    "model_auto.to(device)\n",
    "model_auto.load_state_dict(torch.load('best_model_autoenc32_resnet34.pt', map_location=device, weights_only=False))"
   ],
   "id": "5b5925dc21a5527a",
   "outputs": [
    {
     "data": {
      "text/plain": [
       "<All keys matched successfully>"
      ]
     },
     "execution_count": 14,
     "metadata": {},
     "output_type": "execute_result"
    }
   ],
   "execution_count": 14
  },
  {
   "metadata": {
    "ExecuteTime": {
     "end_time": "2025-03-11T01:47:17.249118Z",
     "start_time": "2025-03-11T01:47:17.245205Z"
    }
   },
   "cell_type": "code",
   "source": [
    "def multy_mod_acc(model1, model2, dataloader_test, er_mean_rat=1.3):\n",
    "    loss_fn = torch.nn.MSELoss(reduction='none')\n",
    "    model1.eval()\n",
    "    model2.eval()\n",
    "    trg = []\n",
    "    pred = []\n",
    "    acc_test = 0.0\n",
    "    tot_test = 0.0\n",
    "    big_ones = 0.0\n",
    "    tot_positive = 0.0\n",
    "    with torch.no_grad():\n",
    "        for itms in dataloader_test:\n",
    "            x=itms[0]\n",
    "            target=itms[1]\n",
    "            x = x.to(device)\n",
    "            target = target.to(device)\n",
    "            outputs, emb = model1(x)\n",
    "            x_pr = model2(emb)\n",
    "            error = torch.mean(loss_fn(x_pr, emb), dim=1)\n",
    "            prob = torch.exp(-torch.pow(error,2.)/(er_mean_rat*0.0026712)**2/2)\n",
    "            outputs = outputs.sigmoid().max(dim=-1)\n",
    "            outputs_p = prob*outputs.values\n",
    "            outputs_i = outputs.indices\n",
    "            outputs_f = torch.where(outputs_p >=0.5, outputs_i, 8)\n",
    "            # print(outputs.shape)\n",
    "            acc_test += torch.sum(outputs_f == target).item()\n",
    "            # acc_test += torch.sum(torch.where(error>er_mean_rat,0,1) == target).item()\n",
    "            tot_test += target.size(0)\n",
    "            # \n",
    "            \n",
    "            # outputs = outputs.sigmoid().max(dim=1).values\n",
    "\n",
    "        #     big_ones += torch.sum(outputs.round()).item()\n",
    "        #     pred.extend(outputs.round().cpu().tolist())\n",
    "        #     trg.extend(target.cpu().tolist())\n",
    "        #     tot_test += target.size(0)\n",
    "        #     tot_positive += torch.sum(target).item()\n",
    "        # print(f'{er_mean_rat}Test accuracy: {round(acc_test/tot_test*100,2)}%')\n",
    "        # print(f'Higher than 50%: {round(big_ones/tot_test*100,2)}%')\n",
    "        # print(f'Non-anomalies to total: {round(tot_positive/tot_test*100,2)}%')\n",
    "        \n",
    "    return round(acc_test/tot_test*100,2)#, round(big_ones/tot_test*100,2), pd.DataFrame({'true':trg, 'pred':pred})"
   ],
   "id": "4058086e3ddb05a0",
   "outputs": [],
   "execution_count": 31
  },
  {
   "metadata": {
    "ExecuteTime": {
     "end_time": "2025-03-11T01:47:19.773525Z",
     "start_time": "2025-03-11T01:47:17.731519Z"
    }
   },
   "cell_type": "code",
   "source": "multy_mod_acc(resnet34, model_auto, testDataLoader)",
   "id": "2480771aa52d23b3",
   "outputs": [
    {
     "data": {
      "text/plain": [
       "82.48"
      ]
     },
     "execution_count": 32,
     "metadata": {},
     "output_type": "execute_result"
    }
   ],
   "execution_count": 32
  },
  {
   "metadata": {
    "ExecuteTime": {
     "end_time": "2025-03-11T02:13:01.485286Z",
     "start_time": "2025-03-11T02:10:28.222256Z"
    }
   },
   "cell_type": "code",
   "source": [
    "bst = 0\n",
    "for i in range(370,500):\n",
    "    a = multy_mod_acc(resnet34, model_auto, testDataLoader, er_mean_rat=(1.3+i/1000))\n",
    "    if a > bst:\n",
    "        bst = a\n",
    "        print(i, a)\n",
    "    elif a < bst:\n",
    "        print(i)"
   ],
   "id": "8d6cc6b3fdf3257c",
   "outputs": [
    {
     "name": "stdout",
     "output_type": "stream",
     "text": [
      "370 90.51\n",
      "398 90.62\n",
      "416 90.72\n",
      "417 90.82\n",
      "433 90.93\n",
      "437\n",
      "438\n",
      "439\n"
     ]
    },
    {
     "ename": "KeyboardInterrupt",
     "evalue": "",
     "output_type": "error",
     "traceback": [
      "\u001B[0;31m---------------------------------------------------------------------------\u001B[0m",
      "\u001B[0;31mKeyboardInterrupt\u001B[0m                         Traceback (most recent call last)",
      "Cell \u001B[0;32mIn[40], line 3\u001B[0m\n\u001B[1;32m      1\u001B[0m bst \u001B[38;5;241m=\u001B[39m \u001B[38;5;241m0\u001B[39m\n\u001B[1;32m      2\u001B[0m \u001B[38;5;28;01mfor\u001B[39;00m i \u001B[38;5;129;01min\u001B[39;00m \u001B[38;5;28mrange\u001B[39m(\u001B[38;5;241m370\u001B[39m,\u001B[38;5;241m500\u001B[39m):\n\u001B[0;32m----> 3\u001B[0m     a \u001B[38;5;241m=\u001B[39m \u001B[43mmulty_mod_acc\u001B[49m\u001B[43m(\u001B[49m\u001B[43mresnet34\u001B[49m\u001B[43m,\u001B[49m\u001B[43m \u001B[49m\u001B[43mmodel_auto\u001B[49m\u001B[43m,\u001B[49m\u001B[43m \u001B[49m\u001B[43mtestDataLoader\u001B[49m\u001B[43m,\u001B[49m\u001B[43m \u001B[49m\u001B[43mer_mean_rat\u001B[49m\u001B[38;5;241;43m=\u001B[39;49m\u001B[43m(\u001B[49m\u001B[38;5;241;43m1.3\u001B[39;49m\u001B[38;5;241;43m+\u001B[39;49m\u001B[43mi\u001B[49m\u001B[38;5;241;43m/\u001B[39;49m\u001B[38;5;241;43m1000\u001B[39;49m\u001B[43m)\u001B[49m\u001B[43m)\u001B[49m\n\u001B[1;32m      4\u001B[0m     \u001B[38;5;28;01mif\u001B[39;00m a \u001B[38;5;241m>\u001B[39m bst:\n\u001B[1;32m      5\u001B[0m         bst \u001B[38;5;241m=\u001B[39m a\n",
      "Cell \u001B[0;32mIn[31], line 26\u001B[0m, in \u001B[0;36mmulty_mod_acc\u001B[0;34m(model1, model2, dataloader_test, er_mean_rat)\u001B[0m\n\u001B[1;32m     24\u001B[0m outputs_f \u001B[38;5;241m=\u001B[39m torch\u001B[38;5;241m.\u001B[39mwhere(outputs_p \u001B[38;5;241m>\u001B[39m\u001B[38;5;241m=\u001B[39m\u001B[38;5;241m0.5\u001B[39m, outputs_i, \u001B[38;5;241m8\u001B[39m)\n\u001B[1;32m     25\u001B[0m \u001B[38;5;66;03m# print(outputs.shape)\u001B[39;00m\n\u001B[0;32m---> 26\u001B[0m acc_test \u001B[38;5;241m+\u001B[39m\u001B[38;5;241m=\u001B[39m \u001B[43mtorch\u001B[49m\u001B[38;5;241;43m.\u001B[39;49m\u001B[43msum\u001B[49m\u001B[43m(\u001B[49m\u001B[43moutputs_f\u001B[49m\u001B[43m \u001B[49m\u001B[38;5;241;43m==\u001B[39;49m\u001B[43m \u001B[49m\u001B[43mtarget\u001B[49m\u001B[43m)\u001B[49m\u001B[38;5;241;43m.\u001B[39;49m\u001B[43mitem\u001B[49m\u001B[43m(\u001B[49m\u001B[43m)\u001B[49m\n\u001B[1;32m     27\u001B[0m \u001B[38;5;66;03m# acc_test += torch.sum(torch.where(error>er_mean_rat,0,1) == target).item()\u001B[39;00m\n\u001B[1;32m     28\u001B[0m tot_test \u001B[38;5;241m+\u001B[39m\u001B[38;5;241m=\u001B[39m target\u001B[38;5;241m.\u001B[39msize(\u001B[38;5;241m0\u001B[39m)\n",
      "\u001B[0;31mKeyboardInterrupt\u001B[0m: "
     ]
    }
   ],
   "execution_count": 40
  },
  {
   "metadata": {},
   "cell_type": "code",
   "outputs": [],
   "execution_count": null,
   "source": "# 433 90.93",
   "id": "a92c7956388886b9"
  },
  {
   "metadata": {
    "ExecuteTime": {
     "end_time": "2025-03-04T01:37:52.272259Z",
     "start_time": "2025-03-04T01:37:52.270188Z"
    }
   },
   "cell_type": "code",
   "source": "# del model_auto",
   "id": "47e9d59cac3d3bea",
   "outputs": [],
   "execution_count": 26
  },
  {
   "metadata": {},
   "cell_type": "markdown",
   "source": "## AE simple",
   "id": "4e02b0fae45ba5c3"
  },
  {
   "metadata": {
    "ExecuteTime": {
     "end_time": "2025-03-05T01:31:43.159728Z",
     "start_time": "2025-03-05T01:31:43.155256Z"
    }
   },
   "cell_type": "code",
   "source": [
    "def sep_mod_acc(model1, model2, dataloader_test, er_mean_rat=1.3):\n",
    "    loss_fn = torch.nn.MSELoss(reduction='none')\n",
    "    model1.eval()\n",
    "    model2.eval()\n",
    "    trg = []\n",
    "    pred = []\n",
    "    acc_test = 0.0\n",
    "    tot_test = 0.0\n",
    "    big_ones = 0.0\n",
    "    tot_positive = 0.0\n",
    "    with torch.no_grad():\n",
    "        for itms in dataloader_test:\n",
    "            x=itms[0]\n",
    "            target=itms[1]\n",
    "            x = x.to(device)\n",
    "            target = target.to(device)\n",
    "            outputs, emb = model1(x)\n",
    "            x_pr = model2(emb)\n",
    "            outputs = outputs.argmax(dim=-1)\n",
    "            error = torch.mean(loss_fn(x_pr, emb), dim=1)/0.0026712\n",
    "            acc_test += torch.sum(torch.where(error>er_mean_rat,8,outputs) == target).item()\n",
    "            tot_test += target.size(0)\n",
    "            \n",
    "            \n",
    "            # outputs = outputs.sigmoid().max(dim=1).values\n",
    "\n",
    "        #     big_ones += torch.sum(outputs.round()).item()\n",
    "        #     pred.extend(outputs.round().cpu().tolist())\n",
    "        #     trg.extend(target.cpu().tolist())\n",
    "        #     tot_test += target.size(0)\n",
    "        #     tot_positive += torch.sum(target).item()\n",
    "        # print(f'{er_mean_rat}Test accuracy: {round(acc_test/tot_test*100,2)}%')\n",
    "        # print(f'Higher than 50%: {round(big_ones/tot_test*100,2)}%')\n",
    "        # print(f'Non-anomalies to total: {round(tot_positive/tot_test*100,2)}%')\n",
    "        \n",
    "    return round(acc_test/tot_test*100,2)#, round(big_ones/tot_test*100,2), pd.DataFrame({'true':trg, 'pred':pred})"
   ],
   "id": "87a4cdf92375a9e",
   "outputs": [],
   "execution_count": 51
  },
  {
   "metadata": {
    "ExecuteTime": {
     "end_time": "2025-03-05T01:31:45.939083Z",
     "start_time": "2025-03-05T01:31:43.850521Z"
    }
   },
   "cell_type": "code",
   "source": "sep_mod_acc(resnet34, model_auto, testDataLoader)",
   "id": "e3ff0d0d47587b94",
   "outputs": [
    {
     "data": {
      "text/plain": [
       "73.93"
      ]
     },
     "execution_count": 52,
     "metadata": {},
     "output_type": "execute_result"
    }
   ],
   "execution_count": 52
  },
  {
   "metadata": {},
   "cell_type": "code",
   "outputs": [],
   "execution_count": null,
   "source": "",
   "id": "5d9012f475bcef"
  }
 ],
 "metadata": {
  "kernelspec": {
   "display_name": "Python 3",
   "language": "python",
   "name": "python3"
  },
  "language_info": {
   "codemirror_mode": {
    "name": "ipython",
    "version": 2
   },
   "file_extension": ".py",
   "mimetype": "text/x-python",
   "name": "python",
   "nbconvert_exporter": "python",
   "pygments_lexer": "ipython2",
   "version": "2.7.6"
  }
 },
 "nbformat": 4,
 "nbformat_minor": 5
}
