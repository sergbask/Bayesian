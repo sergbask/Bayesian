{
 "cells": [
  {
   "cell_type": "code",
   "id": "initial_id",
   "metadata": {
    "collapsed": true,
    "ExecuteTime": {
     "end_time": "2025-02-20T23:54:39.753472Z",
     "start_time": "2025-02-20T23:54:39.750636Z"
    }
   },
   "source": [
    "import torch\n",
    "import torch.nn as nn\n",
    "from torchvision import transforms\n",
    "from torchvision import models\n",
    "from torch.utils.data import Dataset, DataLoader\n",
    "from torchvision.datasets import ImageFolder\n",
    "from datasets import Dataset, load_from_disk\n",
    "\n",
    "import numpy as np\n",
    "import pandas as pd"
   ],
   "outputs": [],
   "execution_count": 67
  },
  {
   "metadata": {
    "ExecuteTime": {
     "end_time": "2025-02-20T00:47:15.980007Z",
     "start_time": "2025-02-20T00:47:15.958665Z"
    }
   },
   "cell_type": "code",
   "source": [
    "device = (\n",
    "    \"cuda\"\n",
    "    if torch.cuda.is_available()\n",
    "    else \"mps\"\n",
    "    if torch.backends.mps.is_available()\n",
    "    else \"cpu\"\n",
    ")\n",
    "print(f\"Using {device} device\")"
   ],
   "id": "991aab753971d136",
   "outputs": [
    {
     "name": "stdout",
     "output_type": "stream",
     "text": [
      "Using mps device\n"
     ]
    }
   ],
   "execution_count": 2
  },
  {
   "metadata": {
    "ExecuteTime": {
     "end_time": "2025-02-20T00:47:22.496968Z",
     "start_time": "2025-02-20T00:47:22.494022Z"
    }
   },
   "cell_type": "code",
   "source": "path_final_test = './data/final_test/'",
   "id": "6029196943079424",
   "outputs": [],
   "execution_count": 3
  },
  {
   "metadata": {
    "ExecuteTime": {
     "end_time": "2025-02-20T00:49:06.243533Z",
     "start_time": "2025-02-20T00:49:06.241106Z"
    }
   },
   "cell_type": "code",
   "source": "BATCH_SIZE = 128",
   "id": "dd136f4dd001ad15",
   "outputs": [],
   "execution_count": 7
  },
  {
   "metadata": {
    "ExecuteTime": {
     "end_time": "2025-02-20T00:47:23.867999Z",
     "start_time": "2025-02-20T00:47:23.864643Z"
    }
   },
   "cell_type": "code",
   "source": "preprocess = transforms.Compose([transforms.Resize(256), transforms.CenterCrop(224), transforms.ToTensor(), transforms.Normalize(mean=[0.485, 0.456, 0.406],  std=[0.229, 0.224, 0.225])])",
   "id": "a07b6e36f80f6a71",
   "outputs": [],
   "execution_count": 4
  },
  {
   "metadata": {
    "ExecuteTime": {
     "end_time": "2025-02-20T00:47:24.967940Z",
     "start_time": "2025-02-20T00:47:24.956309Z"
    }
   },
   "cell_type": "code",
   "source": "test_dataset = ImageFolder(path_final_test, preprocess)",
   "id": "9cdd17c57c8a68c5",
   "outputs": [],
   "execution_count": 5
  },
  {
   "metadata": {
    "ExecuteTime": {
     "end_time": "2025-02-20T00:47:55.359227Z",
     "start_time": "2025-02-20T00:47:55.355086Z"
    }
   },
   "cell_type": "code",
   "source": "test_dataset",
   "id": "6522743d1156c425",
   "outputs": [
    {
     "data": {
      "text/plain": [
       "Dataset ImageFolder\n",
       "    Number of datapoints: 1751\n",
       "    Root location: ./data/final_test/\n",
       "    StandardTransform\n",
       "Transform: Compose(\n",
       "               Resize(size=256, interpolation=bilinear, max_size=None, antialias=True)\n",
       "               CenterCrop(size=(224, 224))\n",
       "               ToTensor()\n",
       "               Normalize(mean=[0.485, 0.456, 0.406], std=[0.229, 0.224, 0.225])\n",
       "           )"
      ]
     },
     "execution_count": 6,
     "metadata": {},
     "output_type": "execute_result"
    }
   ],
   "execution_count": 6
  },
  {
   "metadata": {
    "ExecuteTime": {
     "end_time": "2025-02-20T00:49:24.980311Z",
     "start_time": "2025-02-20T00:49:24.977717Z"
    }
   },
   "cell_type": "code",
   "source": "testDataLoader = DataLoader(test_dataset, batch_size=BATCH_SIZE, shuffle=True)",
   "id": "e52db9de1dd3f03e",
   "outputs": [],
   "execution_count": 8
  },
  {
   "metadata": {
    "ExecuteTime": {
     "end_time": "2025-02-20T00:50:32.323747Z",
     "start_time": "2025-02-20T00:50:32.171479Z"
    }
   },
   "cell_type": "code",
   "source": "next(iter(testDataLoader))[1]",
   "id": "4df709ccf4f1758b",
   "outputs": [
    {
     "data": {
      "text/plain": [
       "tensor([0, 1, 1, 0, 1, 0, 0, 0, 0, 0, 1, 0, 0, 0, 0, 1, 0, 1, 0, 1, 1, 1, 0, 1,\n",
       "        0, 1, 0, 1, 1, 0, 0, 0, 0, 1, 1, 1, 1, 1, 0, 0, 0, 1, 0, 0, 0, 0, 1, 0,\n",
       "        0, 1, 1, 0, 1, 0, 0, 0, 1, 0, 1, 1, 0, 1, 0, 0, 0, 1, 0, 1, 1, 1, 0, 1,\n",
       "        1, 0, 0, 0, 1, 0, 0, 1, 1, 0, 1, 0, 1, 1, 0, 1, 0, 0, 0, 1, 0, 0, 0, 1,\n",
       "        0, 1, 1, 0, 1, 0, 0, 1, 1, 1, 1, 1, 0, 0, 0, 0, 0, 1, 0, 0, 1, 0, 0, 1,\n",
       "        1, 0, 1, 0, 1, 1, 1, 1])"
      ]
     },
     "execution_count": 12,
     "metadata": {},
     "output_type": "execute_result"
    }
   ],
   "execution_count": 12
  },
  {
   "metadata": {
    "ExecuteTime": {
     "end_time": "2025-02-20T00:53:35.567085Z",
     "start_time": "2025-02-20T00:53:35.182653Z"
    }
   },
   "cell_type": "code",
   "source": [
    "resnet34 = models.resnet34(weights=None)\n",
    "class CustomFC(nn.Module):\n",
    "    def __init__(self, in_features, out_features):\n",
    "        super().__init__()\n",
    "        self.in_features = in_features\n",
    "        self.out_features = out_features\n",
    "        self.fc1 = nn.Linear(in_features=in_features, out_features=out_features)\n",
    "        \n",
    "    def forward(self, x):\n",
    "        return self.fc1(x), x\n",
    "    \n",
    "resnet34.fc = CustomFC(512,8)\n",
    "resnet34.to(device)\n",
    "\n",
    "resnet34.load_state_dict(torch.load('model_best_resnet34.pt', map_location=device, weights_only=False))"
   ],
   "id": "5631019184d2569e",
   "outputs": [
    {
     "data": {
      "text/plain": [
       "<All keys matched successfully>"
      ]
     },
     "execution_count": 13,
     "metadata": {},
     "output_type": "execute_result"
    }
   ],
   "execution_count": 13
  },
  {
   "metadata": {
    "ExecuteTime": {
     "end_time": "2025-02-20T23:55:19.754914Z",
     "start_time": "2025-02-20T23:55:19.750431Z"
    }
   },
   "cell_type": "code",
   "source": [
    "def naive_mod_acc(model, dataloader_test):\n",
    "    model.eval()\n",
    "    trg = []\n",
    "    pred = []\n",
    "    acc_test = 0.0\n",
    "    tot_test = 0.0\n",
    "    big_ones = 0.0\n",
    "    tot_positive = 0.0\n",
    "    with torch.no_grad():\n",
    "        for itms in dataloader_test:\n",
    "            x=itms[0]\n",
    "            target=itms[1]\n",
    "            x = x.to(device)\n",
    "            target = target.to(device)\n",
    "            outputs, _ = model(x)\n",
    "            outputs = outputs.sigmoid().max(dim=1).values\n",
    "            # print(outputs.shape)\n",
    "            acc_test += torch.sum(outputs.round() == target).item()\n",
    "            big_ones += torch.sum(outputs.round()).item()\n",
    "            pred.extend(outputs.round().cpu().tolist())\n",
    "            trg.extend(target.cpu().tolist())\n",
    "            tot_test += target.size(0)\n",
    "            tot_positive += torch.sum(target).item()\n",
    "        print(f'Test accuracy: {round(acc_test/tot_test*100,2)}%')\n",
    "        print(f'Higher than 50%: {round(big_ones/tot_test*100,2)}%')\n",
    "        print(f'Non-anomalies to total: {round(tot_positive/tot_test*100,2)}%')\n",
    "        \n",
    "    return round(acc_test/tot_test*100,2), round(big_ones/tot_test*100,2), pd.DataFrame({'true':trg, 'pred':pred})"
   ],
   "id": "a76986792c46f8e",
   "outputs": [],
   "execution_count": 68
  },
  {
   "metadata": {
    "ExecuteTime": {
     "end_time": "2025-02-20T23:56:19.203743Z",
     "start_time": "2025-02-20T23:56:15.629257Z"
    }
   },
   "cell_type": "code",
   "source": [
    "_,_, res = naive_mod_acc(resnet34, testDataLoader)\n",
    "res"
   ],
   "id": "e98b1752ec6b9930",
   "outputs": [
    {
     "name": "stdout",
     "output_type": "stream",
     "text": [
      "Test accuracy: 53.85%\n",
      "Higher than 50%: 92.69%\n",
      "Non-anomalies to total: 48.03%\n"
     ]
    },
    {
     "data": {
      "text/plain": [
       "      true  pred\n",
       "0        0   1.0\n",
       "1        1   1.0\n",
       "2        0   1.0\n",
       "3        1   1.0\n",
       "4        0   1.0\n",
       "...    ...   ...\n",
       "1746     1   1.0\n",
       "1747     1   1.0\n",
       "1748     0   1.0\n",
       "1749     0   1.0\n",
       "1750     1   1.0\n",
       "\n",
       "[1751 rows x 2 columns]"
      ],
      "text/html": [
       "<div>\n",
       "<style scoped>\n",
       "    .dataframe tbody tr th:only-of-type {\n",
       "        vertical-align: middle;\n",
       "    }\n",
       "\n",
       "    .dataframe tbody tr th {\n",
       "        vertical-align: top;\n",
       "    }\n",
       "\n",
       "    .dataframe thead th {\n",
       "        text-align: right;\n",
       "    }\n",
       "</style>\n",
       "<table border=\"1\" class=\"dataframe\">\n",
       "  <thead>\n",
       "    <tr style=\"text-align: right;\">\n",
       "      <th></th>\n",
       "      <th>true</th>\n",
       "      <th>pred</th>\n",
       "    </tr>\n",
       "  </thead>\n",
       "  <tbody>\n",
       "    <tr>\n",
       "      <th>0</th>\n",
       "      <td>0</td>\n",
       "      <td>1.0</td>\n",
       "    </tr>\n",
       "    <tr>\n",
       "      <th>1</th>\n",
       "      <td>1</td>\n",
       "      <td>1.0</td>\n",
       "    </tr>\n",
       "    <tr>\n",
       "      <th>2</th>\n",
       "      <td>0</td>\n",
       "      <td>1.0</td>\n",
       "    </tr>\n",
       "    <tr>\n",
       "      <th>3</th>\n",
       "      <td>1</td>\n",
       "      <td>1.0</td>\n",
       "    </tr>\n",
       "    <tr>\n",
       "      <th>4</th>\n",
       "      <td>0</td>\n",
       "      <td>1.0</td>\n",
       "    </tr>\n",
       "    <tr>\n",
       "      <th>...</th>\n",
       "      <td>...</td>\n",
       "      <td>...</td>\n",
       "    </tr>\n",
       "    <tr>\n",
       "      <th>1746</th>\n",
       "      <td>1</td>\n",
       "      <td>1.0</td>\n",
       "    </tr>\n",
       "    <tr>\n",
       "      <th>1747</th>\n",
       "      <td>1</td>\n",
       "      <td>1.0</td>\n",
       "    </tr>\n",
       "    <tr>\n",
       "      <th>1748</th>\n",
       "      <td>0</td>\n",
       "      <td>1.0</td>\n",
       "    </tr>\n",
       "    <tr>\n",
       "      <th>1749</th>\n",
       "      <td>0</td>\n",
       "      <td>1.0</td>\n",
       "    </tr>\n",
       "    <tr>\n",
       "      <th>1750</th>\n",
       "      <td>1</td>\n",
       "      <td>1.0</td>\n",
       "    </tr>\n",
       "  </tbody>\n",
       "</table>\n",
       "<p>1751 rows × 2 columns</p>\n",
       "</div>"
      ]
     },
     "execution_count": 70,
     "metadata": {},
     "output_type": "execute_result"
    }
   ],
   "execution_count": 70
  },
  {
   "metadata": {},
   "cell_type": "code",
   "outputs": [],
   "execution_count": null,
   "source": "",
   "id": "5f67c803c78de824"
  }
 ],
 "metadata": {
  "kernelspec": {
   "display_name": "Python 3",
   "language": "python",
   "name": "python3"
  },
  "language_info": {
   "codemirror_mode": {
    "name": "ipython",
    "version": 2
   },
   "file_extension": ".py",
   "mimetype": "text/x-python",
   "name": "python",
   "nbconvert_exporter": "python",
   "pygments_lexer": "ipython2",
   "version": "2.7.6"
  }
 },
 "nbformat": 4,
 "nbformat_minor": 5
}
