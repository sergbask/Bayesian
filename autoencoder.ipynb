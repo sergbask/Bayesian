{
 "cells": [
  {
   "cell_type": "code",
   "id": "initial_id",
   "metadata": {
    "collapsed": true,
    "ExecuteTime": {
     "end_time": "2025-02-19T10:30:35.493718Z",
     "start_time": "2025-02-19T10:30:35.490692Z"
    }
   },
   "source": [
    "import torch\n",
    "import torch.nn as nn\n",
    "from torchvision import transforms\n",
    "from torchvision import models\n",
    "from torch.utils.data import Dataset, DataLoader\n",
    "from torchvision.datasets import ImageFolder\n",
    "from datasets import Dataset, load_from_disk\n",
    "import torch.nn.functional as F\n",
    "\n",
    "import numpy as np\n",
    "# import pandas as pd\n",
    "import matplotlib.pyplot as plt"
   ],
   "outputs": [],
   "execution_count": 50
  },
  {
   "metadata": {
    "ExecuteTime": {
     "end_time": "2025-02-19T10:30:35.927602Z",
     "start_time": "2025-02-19T10:30:35.925980Z"
    }
   },
   "cell_type": "code",
   "source": "BATCH_SIZE = 256",
   "id": "1f62258dcfedd3d8",
   "outputs": [],
   "execution_count": 51
  },
  {
   "metadata": {
    "ExecuteTime": {
     "end_time": "2025-02-19T10:30:37.299404Z",
     "start_time": "2025-02-19T10:30:37.296477Z"
    }
   },
   "cell_type": "code",
   "source": [
    "device = (\n",
    "    \"cuda\"\n",
    "    if torch.cuda.is_available()\n",
    "    else \"mps\"\n",
    "    if torch.backends.mps.is_available()\n",
    "    else \"cpu\"\n",
    ")\n",
    "print(f\"Using {device} device\")"
   ],
   "id": "1bbd08fbf9392a4b",
   "outputs": [
    {
     "name": "stdout",
     "output_type": "stream",
     "text": [
      "Using mps device\n"
     ]
    }
   ],
   "execution_count": 52
  },
  {
   "metadata": {
    "ExecuteTime": {
     "end_time": "2025-02-19T10:30:40.099282Z",
     "start_time": "2025-02-19T10:30:40.092387Z"
    }
   },
   "cell_type": "code",
   "source": "df = load_from_disk(\"./data/encoded34\", keep_in_memory=False)",
   "id": "8a3c00851b079665",
   "outputs": [],
   "execution_count": 53
  },
  {
   "metadata": {
    "ExecuteTime": {
     "end_time": "2025-02-19T10:30:45.302534Z",
     "start_time": "2025-02-19T10:30:45.298169Z"
    }
   },
   "cell_type": "code",
   "source": [
    "class AutoEncoder(torch.nn.Module):\n",
    "    def __init__(self, n, m, p, b):\n",
    "        super().__init__()\n",
    "        self.e1 = torch.nn.Linear(n, m)\n",
    "        self.e2 = torch.nn.Linear(m, p)\n",
    "        self.e3 = torch.nn.Linear(p, b)\n",
    "        self.dec3 = torch.nn.Linear(b, p)\n",
    "        self.dec2 = torch.nn.Linear(p, m)\n",
    "        self.dec1 = torch.nn.Linear(m, n)\n",
    "        \n",
    "    def forward(self, x):\n",
    "        x = self.e1(x)\n",
    "        x = self.e2(F.relu(x))\n",
    "        encoded = self.e3(F.relu(x))\n",
    "        x = self.dec3(encoded)\n",
    "        x = self.dec2(F.relu(x))\n",
    "        x = self.dec1(F.relu(x))\n",
    "        return x"
   ],
   "id": "f6f2a901aa855a21",
   "outputs": [],
   "execution_count": 54
  },
  {
   "metadata": {
    "ExecuteTime": {
     "end_time": "2025-02-19T10:30:46.402929Z",
     "start_time": "2025-02-19T10:30:46.399719Z"
    }
   },
   "cell_type": "code",
   "source": [
    "df_train = df['train']\n",
    "df_test = df['test']\n",
    "dataloader_train = DataLoader(df_train, batch_size=BATCH_SIZE, shuffle=True, drop_last=True)\n",
    "dataloader_test = DataLoader(df_test, batch_size=BATCH_SIZE, shuffle=True, drop_last=True)"
   ],
   "id": "8e36718bebab013f",
   "outputs": [],
   "execution_count": 55
  },
  {
   "metadata": {
    "ExecuteTime": {
     "end_time": "2025-02-19T10:30:47.321552Z",
     "start_time": "2025-02-19T10:30:47.314002Z"
    }
   },
   "cell_type": "code",
   "source": [
    "ts = next(iter(dataloader_train))\n",
    "ts"
   ],
   "id": "a6312dcc0cf82a7b",
   "outputs": [
    {
     "data": {
      "text/plain": [
       "{'data': tensor([[0.0000, 0.0000, 0.0000,  ..., 0.0000, 0.0000, 0.6295],\n",
       "         [0.0000, 0.0000, 0.0000,  ..., 0.0000, 0.0000, 0.6974],\n",
       "         [0.0000, 0.0000, 0.0000,  ..., 0.0000, 0.0379, 0.0265],\n",
       "         ...,\n",
       "         [0.0000, 0.0000, 0.0000,  ..., 0.0000, 1.0229, 0.0000],\n",
       "         [0.0000, 0.0000, 0.0000,  ..., 0.0000, 0.0092, 0.0000],\n",
       "         [0.0000, 0.0000, 0.0000,  ..., 0.0000, 0.5749, 0.5646]])}"
      ]
     },
     "execution_count": 56,
     "metadata": {},
     "output_type": "execute_result"
    }
   ],
   "execution_count": 56
  },
  {
   "metadata": {
    "ExecuteTime": {
     "end_time": "2025-02-19T10:30:49.740016Z",
     "start_time": "2025-02-19T10:30:49.737138Z"
    }
   },
   "cell_type": "code",
   "source": "ts['data'].size()",
   "id": "c52204f6e16da732",
   "outputs": [
    {
     "data": {
      "text/plain": [
       "torch.Size([256, 512])"
      ]
     },
     "execution_count": 57,
     "metadata": {},
     "output_type": "execute_result"
    }
   ],
   "execution_count": 57
  },
  {
   "metadata": {
    "ExecuteTime": {
     "end_time": "2025-02-19T10:30:51.198644Z",
     "start_time": "2025-02-19T10:30:51.193617Z"
    }
   },
   "cell_type": "code",
   "source": [
    "def training_loop(model, dataloader_train, dataloader_test, nf):\n",
    "    best_vloss = 1e+10\n",
    "    # bs = dataloader_train.batch_size\n",
    "    bntr, bntst = len(dataloader_train), len(dataloader_test)\n",
    "\n",
    "    learning_rate = 1e-2\n",
    "    optimizer = torch.optim.Adam(model.parameters(), lr=learning_rate)\n",
    "    loss_fn = torch.nn.MSELoss(reduction='mean')\n",
    "    n_epoch = 1000\n",
    "\n",
    "    for epoch in range(1, n_epoch+1):\n",
    "        model.train()\n",
    "        loss_train = 0.0\n",
    "        for itms in dataloader_train:\n",
    "            x=itms['data']\n",
    "            batch_size = x.shape[0]\n",
    "            x = x.to(device)\n",
    "            # lables = lables.to(device)\n",
    "            outputs = model(x)\n",
    "            loss = loss_fn(outputs, x)\n",
    "\n",
    "            optimizer.zero_grad()\n",
    "            loss.backward()\n",
    "            optimizer.step()\n",
    "\n",
    "            loss_train += loss.item()\n",
    "        \n",
    "        model.eval()\n",
    "        loss_val = 0.0\n",
    "\n",
    "        with torch.no_grad():\n",
    "            for itms in dataloader_test:\n",
    "                x=itms['data']\n",
    "                x = x.to(device)\n",
    "                outputs = model(x)\n",
    "                loss_v = loss_fn(outputs, x)\n",
    "                loss_val += loss_v.item()\n",
    "        #     \n",
    "            if loss_val < best_vloss:\n",
    "                torch.save(model.state_dict(), nf)\n",
    "                best_vloss = loss_val\n",
    "\n",
    "\n",
    "    \n",
    "        if epoch == 1 or epoch%100 == 0:\n",
    "            print(f'Epoch: {epoch}, Epoch train loss: {loss_train/bntr}')\n",
    "            print(f'Epoch val loss: {loss_val/bntst}')\n",
    "            # print(f'Accuracy: {correct/total*100}')\n",
    "            \n",
    "    return best_vloss"
   ],
   "id": "25833769172aab50",
   "outputs": [],
   "execution_count": 58
  },
  {
   "metadata": {
    "ExecuteTime": {
     "end_time": "2025-02-19T10:31:33.942718Z",
     "start_time": "2025-02-19T10:31:33.930008Z"
    }
   },
   "cell_type": "code",
   "source": [
    "# del model_auto\n",
    "model_auto = AutoEncoder(512, 256, 128, 64).to(device)"
   ],
   "id": "8645159f0b2ffa8e",
   "outputs": [],
   "execution_count": 61
  },
  {
   "metadata": {
    "ExecuteTime": {
     "end_time": "2025-02-19T10:33:27.351067Z",
     "start_time": "2025-02-19T10:31:34.444247Z"
    }
   },
   "cell_type": "code",
   "source": "training_loop(model_auto, dataloader_train, dataloader_test, nf='best_model_autoenc_resnet34.pt')",
   "id": "14182947f7bb022f",
   "outputs": [
    {
     "name": "stdout",
     "output_type": "stream",
     "text": [
      "Epoch: 1, Epoch train loss: 0.061544549149962574\n",
      "Epoch val loss: 0.047927623614668846\n",
      "Epoch: 100, Epoch train loss: 0.003291256672057968\n",
      "Epoch val loss: 0.003711095079779625\n",
      "Epoch: 200, Epoch train loss: 0.0030910355003120806\n",
      "Epoch val loss: 0.003553428570739925\n",
      "Epoch: 300, Epoch train loss: 0.002949525136500597\n",
      "Epoch val loss: 0.0035514419432729483\n",
      "Epoch: 400, Epoch train loss: 0.002797845115240377\n",
      "Epoch val loss: 0.0033965249313041568\n",
      "Epoch: 500, Epoch train loss: 0.0027985457205571807\n",
      "Epoch val loss: 0.00343519973102957\n",
      "Epoch: 600, Epoch train loss: 0.002800550043153075\n",
      "Epoch val loss: 0.0033792966278269887\n",
      "Epoch: 700, Epoch train loss: 0.0027816602691578176\n",
      "Epoch val loss: 0.003466544672846794\n",
      "Epoch: 800, Epoch train loss: 0.0027022978846127023\n",
      "Epoch val loss: 0.0032653278904035687\n",
      "Epoch: 900, Epoch train loss: 0.0027251232218427155\n",
      "Epoch val loss: 0.003361801151186228\n",
      "Epoch: 1000, Epoch train loss: 0.00272820233546484\n",
      "Epoch val loss: 0.0034850884694606066\n"
     ]
    },
    {
     "data": {
      "text/plain": [
       "0.006191310938447714"
      ]
     },
     "execution_count": 62,
     "metadata": {},
     "output_type": "execute_result"
    }
   ],
   "execution_count": 62
  },
  {
   "metadata": {
    "ExecuteTime": {
     "end_time": "2025-02-19T10:46:52.739903Z",
     "start_time": "2025-02-19T10:46:52.723449Z"
    }
   },
   "cell_type": "code",
   "source": "model_auto.load_state_dict(torch.load('best_model_autoenc_resnet34.pt', map_location=device, weights_only=False))",
   "id": "c122bb723a65e237",
   "outputs": [
    {
     "data": {
      "text/plain": [
       "<All keys matched successfully>"
      ]
     },
     "execution_count": 63,
     "metadata": {},
     "output_type": "execute_result"
    }
   ],
   "execution_count": 63
  },
  {
   "metadata": {
    "ExecuteTime": {
     "end_time": "2025-02-19T10:46:55.096069Z",
     "start_time": "2025-02-19T10:46:55.084563Z"
    }
   },
   "cell_type": "code",
   "source": [
    "loss_fn = torch.nn.MSELoss(reduction='none')\n",
    "torch.mean(loss_fn(model_auto(ts['data'].to(device)), ts['data'].to(device)), dim=1).size()"
   ],
   "id": "316502d19038c978",
   "outputs": [
    {
     "data": {
      "text/plain": [
       "torch.Size([256])"
      ]
     },
     "execution_count": 64,
     "metadata": {},
     "output_type": "execute_result"
    }
   ],
   "execution_count": 64
  },
  {
   "metadata": {
    "ExecuteTime": {
     "end_time": "2025-02-19T10:46:58.868680Z",
     "start_time": "2025-02-19T10:46:58.866922Z"
    }
   },
   "cell_type": "code",
   "source": "",
   "id": "36349d4db00cfbc0",
   "outputs": [],
   "execution_count": 64
  },
  {
   "metadata": {
    "ExecuteTime": {
     "end_time": "2025-02-19T10:46:59.848412Z",
     "start_time": "2025-02-19T10:46:59.844259Z"
    }
   },
   "cell_type": "code",
   "source": [
    "def extract_error(model, dataloader_train, dataloader_test):\n",
    "    loss_fn = torch.nn.MSELoss(reduction='none')\n",
    "    errors = []\n",
    "    model.eval()\n",
    "    with torch.no_grad():\n",
    "        for itms in dataloader_train:\n",
    "            x=itms['data']\n",
    "            batch_size = x.shape[0]\n",
    "            x = x.to(device)\n",
    "            # lables = lables.to(device)\n",
    "            outputs = model(x)\n",
    "            error = torch.mean(loss_fn(outputs, x), dim=1).cpu().tolist()\n",
    "            errors.extend(error)\n",
    "\n",
    "            # \n",
    "        for itms in dataloader_test:\n",
    "            x=itms['data']\n",
    "            x = x.to(device)\n",
    "            outputs = model(x)\n",
    "            error = torch.mean(loss_fn(outputs, x), dim=1).cpu().tolist()\n",
    "            errors.extend(error)\n",
    "\n",
    "            \n",
    "    return errors"
   ],
   "id": "4b50eea921d9536",
   "outputs": [],
   "execution_count": 65
  },
  {
   "metadata": {
    "ExecuteTime": {
     "end_time": "2025-02-19T10:47:03.041492Z",
     "start_time": "2025-02-19T10:47:02.957110Z"
    }
   },
   "cell_type": "code",
   "source": [
    "errors = extract_error(model_auto, dataloader_train, dataloader_test)\n",
    "len(errors)"
   ],
   "id": "bc26c067cf337651",
   "outputs": [
    {
     "data": {
      "text/plain": [
       "7168"
      ]
     },
     "execution_count": 66,
     "metadata": {},
     "output_type": "execute_result"
    }
   ],
   "execution_count": 66
  },
  {
   "metadata": {
    "ExecuteTime": {
     "end_time": "2025-02-19T10:47:09.986206Z",
     "start_time": "2025-02-19T10:47:09.920962Z"
    }
   },
   "cell_type": "code",
   "source": [
    "plt.hist(errors, bins=100)\n",
    "plt.show()"
   ],
   "id": "57c39e2943ba118b",
   "outputs": [
    {
     "data": {
      "text/plain": [
       "<Figure size 640x480 with 1 Axes>"
      ],
      "image/png": "[encoded data removed]"
     },
     "metadata": {},
     "output_type": "display_data"
    }
   ],
   "execution_count": 67
  },
  {
   "metadata": {
    "ExecuteTime": {
     "end_time": "2025-02-19T10:47:19.209975Z",
     "start_time": "2025-02-19T10:47:19.205548Z"
    }
   },
   "cell_type": "code",
   "source": "np.mean(errors), np.std(errors)",
   "id": "41158a1ebf42eb86",
   "outputs": [
    {
     "data": {
      "text/plain": [
       "(np.float64(0.0026712339925925982), np.float64(0.0014092655805875568))"
      ]
     },
     "execution_count": 68,
     "metadata": {},
     "output_type": "execute_result"
    }
   ],
   "execution_count": 68
  },
  {
   "metadata": {},
   "cell_type": "code",
   "outputs": [],
   "execution_count": null,
   "source": "",
   "id": "15b423ece04cdd2a"
  }
 ],
 "metadata": {
  "kernelspec": {
   "display_name": "Python 3",
   "language": "python",
   "name": "python3"
  },
  "language_info": {
   "codemirror_mode": {
    "name": "ipython",
    "version": 2
   },
   "file_extension": ".py",
   "mimetype": "text/x-python",
   "name": "python",
   "nbconvert_exporter": "python",
   "pygments_lexer": "ipython2",
   "version": "2.7.6"
  }
 },
 "nbformat": 4,
 "nbformat_minor": 5
}
