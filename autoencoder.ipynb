{
 "cells": [
  {
   "cell_type": "code",
   "id": "initial_id",
   "metadata": {
    "collapsed": true,
    "ExecuteTime": {
     "end_time": "2025-03-13T02:31:00.370082Z",
     "start_time": "2025-03-13T02:31:00.367569Z"
    }
   },
   "source": [
    "import torch\n",
    "import torch.nn as nn\n",
    "from torchvision import transforms\n",
    "from torchvision import models\n",
    "from torch.utils.data import Dataset, DataLoader\n",
    "from torchvision.datasets import ImageFolder\n",
    "from datasets import Dataset, load_from_disk\n",
    "import torch.nn.functional as F\n",
    "\n",
    "import numpy as np\n",
    "# import pandas as pd\n",
    "import matplotlib.pyplot as plt"
   ],
   "outputs": [],
   "execution_count": 3
  },
  {
   "metadata": {
    "ExecuteTime": {
     "end_time": "2025-03-13T02:31:01.974816Z",
     "start_time": "2025-03-13T02:31:01.971628Z"
    }
   },
   "cell_type": "code",
   "source": "BATCH_SIZE = 256",
   "id": "1f62258dcfedd3d8",
   "outputs": [],
   "execution_count": 4
  },
  {
   "metadata": {
    "ExecuteTime": {
     "end_time": "2025-03-13T02:31:02.952297Z",
     "start_time": "2025-03-13T02:31:02.932019Z"
    }
   },
   "cell_type": "code",
   "source": [
    "device = (\n",
    "    \"cuda\"\n",
    "    if torch.cuda.is_available()\n",
    "    else \"mps\"\n",
    "    if torch.backends.mps.is_available()\n",
    "    else \"cpu\"\n",
    ")\n",
    "print(f\"Using {device} device\")"
   ],
   "id": "1bbd08fbf9392a4b",
   "outputs": [
    {
     "name": "stdout",
     "output_type": "stream",
     "text": [
      "Using mps device\n"
     ]
    }
   ],
   "execution_count": 5
  },
  {
   "metadata": {
    "ExecuteTime": {
     "end_time": "2025-02-22T18:28:37.604994Z",
     "start_time": "2025-02-22T18:28:37.585522Z"
    }
   },
   "cell_type": "code",
   "source": "df = load_from_disk(\"./data/encoded34\", keep_in_memory=False)",
   "id": "8a3c00851b079665",
   "outputs": [],
   "execution_count": 4
  },
  {
   "metadata": {
    "ExecuteTime": {
     "end_time": "2025-02-22T18:28:38.105702Z",
     "start_time": "2025-02-22T18:28:38.102854Z"
    }
   },
   "cell_type": "code",
   "source": [
    "class AutoEncoder(torch.nn.Module):\n",
    "    def __init__(self, n, m, p, b):\n",
    "        super().__init__()\n",
    "        self.e1 = torch.nn.Linear(n, m)\n",
    "        self.e2 = torch.nn.Linear(m, p)\n",
    "        self.e3 = torch.nn.Linear(p, b)\n",
    "        self.dec3 = torch.nn.Linear(b, p)\n",
    "        self.dec2 = torch.nn.Linear(p, m)\n",
    "        self.dec1 = torch.nn.Linear(m, n)\n",
    "        \n",
    "    def forward(self, x):\n",
    "        x = self.e1(x)\n",
    "        x = self.e2(F.relu(x))\n",
    "        encoded = self.e3(F.relu(x))\n",
    "        x = self.dec3(encoded)\n",
    "        x = self.dec2(F.relu(x))\n",
    "        x = self.dec1(F.relu(x))\n",
    "        return x"
   ],
   "id": "f6f2a901aa855a21",
   "outputs": [],
   "execution_count": 5
  },
  {
   "metadata": {
    "ExecuteTime": {
     "end_time": "2025-02-22T18:28:38.954196Z",
     "start_time": "2025-02-22T18:28:38.951785Z"
    }
   },
   "cell_type": "code",
   "source": [
    "df_train = df['train']\n",
    "df_test = df['test']\n",
    "dataloader_train = DataLoader(df_train, batch_size=BATCH_SIZE, shuffle=True, drop_last=True)\n",
    "dataloader_test = DataLoader(df_test, batch_size=BATCH_SIZE, shuffle=True, drop_last=True)"
   ],
   "id": "8e36718bebab013f",
   "outputs": [],
   "execution_count": 6
  },
  {
   "metadata": {
    "ExecuteTime": {
     "end_time": "2025-02-22T18:28:40.620321Z",
     "start_time": "2025-02-22T18:28:40.611349Z"
    }
   },
   "cell_type": "code",
   "source": [
    "ts = next(iter(dataloader_train))\n",
    "ts"
   ],
   "id": "a6312dcc0cf82a7b",
   "outputs": [
    {
     "data": {
      "text/plain": [
       "{'data': tensor([[0.0000, 0.0000, 0.0000,  ..., 0.0000, 0.9525, 0.0000],\n",
       "         [0.0000, 0.0000, 0.0000,  ..., 0.0000, 0.0000, 0.0925],\n",
       "         [0.0000, 0.0000, 0.0000,  ..., 0.0000, 0.0000, 0.0000],\n",
       "         ...,\n",
       "         [0.0000, 0.0000, 0.0000,  ..., 0.0000, 0.0000, 0.0000],\n",
       "         [0.0000, 0.0000, 0.0000,  ..., 0.0000, 0.3102, 0.0287],\n",
       "         [0.0000, 0.0000, 0.0000,  ..., 0.0000, 0.0000, 0.0000]])}"
      ]
     },
     "execution_count": 7,
     "metadata": {},
     "output_type": "execute_result"
    }
   ],
   "execution_count": 7
  },
  {
   "metadata": {
    "ExecuteTime": {
     "end_time": "2025-02-22T18:28:41.898121Z",
     "start_time": "2025-02-22T18:28:41.895790Z"
    }
   },
   "cell_type": "code",
   "source": "ts['data'].size()",
   "id": "c52204f6e16da732",
   "outputs": [
    {
     "data": {
      "text/plain": [
       "torch.Size([256, 512])"
      ]
     },
     "execution_count": 8,
     "metadata": {},
     "output_type": "execute_result"
    }
   ],
   "execution_count": 8
  },
  {
   "metadata": {
    "ExecuteTime": {
     "end_time": "2025-02-22T18:28:43.318689Z",
     "start_time": "2025-02-22T18:28:43.313815Z"
    }
   },
   "cell_type": "code",
   "source": [
    "def training_loop(model, dataloader_train, dataloader_test, nf):\n",
    "    best_vloss = 1e+10\n",
    "    # bs = dataloader_train.batch_size\n",
    "    bntr, bntst = len(dataloader_train), len(dataloader_test)\n",
    "\n",
    "    learning_rate = 1e-2\n",
    "    optimizer = torch.optim.Adam(model.parameters(), lr=learning_rate)\n",
    "    loss_fn = torch.nn.MSELoss(reduction='mean')\n",
    "    n_epoch = 1000\n",
    "\n",
    "    for epoch in range(1, n_epoch+1):\n",
    "        model.train()\n",
    "        loss_train = 0.0\n",
    "        for itms in dataloader_train:\n",
    "            x=itms['data']\n",
    "            batch_size = x.shape[0]\n",
    "            x = x.to(device)\n",
    "            # lables = lables.to(device)\n",
    "            outputs = model(x)\n",
    "            loss = loss_fn(outputs, x)\n",
    "\n",
    "            optimizer.zero_grad()\n",
    "            loss.backward()\n",
    "            optimizer.step()\n",
    "\n",
    "            loss_train += loss.item()\n",
    "        \n",
    "        model.eval()\n",
    "        loss_val = 0.0\n",
    "\n",
    "        with torch.no_grad():\n",
    "            for itms in dataloader_test:\n",
    "                x=itms['data']\n",
    "                x = x.to(device)\n",
    "                outputs = model(x)\n",
    "                loss_v = loss_fn(outputs, x)\n",
    "                loss_val += loss_v.item()\n",
    "        #     \n",
    "            if loss_val < best_vloss:\n",
    "                torch.save(model.state_dict(), nf)\n",
    "                best_vloss = loss_val\n",
    "\n",
    "\n",
    "    \n",
    "        if epoch == 1 or epoch%100 == 0:\n",
    "            print(f'Epoch: {epoch}, Epoch train loss: {loss_train/bntr}')\n",
    "            print(f'Epoch val loss: {loss_val/bntst}')\n",
    "            # print(f'Accuracy: {correct/total*100}')\n",
    "            \n",
    "    return best_vloss"
   ],
   "id": "25833769172aab50",
   "outputs": [],
   "execution_count": 9
  },
  {
   "metadata": {
    "ExecuteTime": {
     "end_time": "2025-02-19T10:31:33.942718Z",
     "start_time": "2025-02-19T10:31:33.930008Z"
    }
   },
   "cell_type": "code",
   "source": [
    "# del model_auto\n",
    "model_auto = AutoEncoder(512, 256, 128, 64).to(device)"
   ],
   "id": "8645159f0b2ffa8e",
   "outputs": [],
   "execution_count": 61
  },
  {
   "metadata": {
    "ExecuteTime": {
     "end_time": "2025-02-19T10:33:27.351067Z",
     "start_time": "2025-02-19T10:31:34.444247Z"
    }
   },
   "cell_type": "code",
   "source": "training_loop(model_auto, dataloader_train, dataloader_test, nf='best_model_autoenc64_resnet34.pt')",
   "id": "14182947f7bb022f",
   "outputs": [
    {
     "name": "stdout",
     "output_type": "stream",
     "text": [
      "Epoch: 1, Epoch train loss: 0.061544549149962574\n",
      "Epoch val loss: 0.047927623614668846\n",
      "Epoch: 100, Epoch train loss: 0.003291256672057968\n",
      "Epoch val loss: 0.003711095079779625\n",
      "Epoch: 200, Epoch train loss: 0.0030910355003120806\n",
      "Epoch val loss: 0.003553428570739925\n",
      "Epoch: 300, Epoch train loss: 0.002949525136500597\n",
      "Epoch val loss: 0.0035514419432729483\n",
      "Epoch: 400, Epoch train loss: 0.002797845115240377\n",
      "Epoch val loss: 0.0033965249313041568\n",
      "Epoch: 500, Epoch train loss: 0.0027985457205571807\n",
      "Epoch val loss: 0.00343519973102957\n",
      "Epoch: 600, Epoch train loss: 0.002800550043153075\n",
      "Epoch val loss: 0.0033792966278269887\n",
      "Epoch: 700, Epoch train loss: 0.0027816602691578176\n",
      "Epoch val loss: 0.003466544672846794\n",
      "Epoch: 800, Epoch train loss: 0.0027022978846127023\n",
      "Epoch val loss: 0.0032653278904035687\n",
      "Epoch: 900, Epoch train loss: 0.0027251232218427155\n",
      "Epoch val loss: 0.003361801151186228\n",
      "Epoch: 1000, Epoch train loss: 0.00272820233546484\n",
      "Epoch val loss: 0.0034850884694606066\n"
     ]
    },
    {
     "data": {
      "text/plain": [
       "0.006191310938447714"
      ]
     },
     "execution_count": 62,
     "metadata": {},
     "output_type": "execute_result"
    }
   ],
   "execution_count": 62
  },
  {
   "metadata": {
    "ExecuteTime": {
     "end_time": "2025-02-19T10:46:52.739903Z",
     "start_time": "2025-02-19T10:46:52.723449Z"
    }
   },
   "cell_type": "code",
   "source": "model_auto.load_state_dict(torch.load('best_model_autoenc64_resnet34.pt', map_location=device, weights_only=False))",
   "id": "c122bb723a65e237",
   "outputs": [
    {
     "data": {
      "text/plain": [
       "<All keys matched successfully>"
      ]
     },
     "execution_count": 63,
     "metadata": {},
     "output_type": "execute_result"
    }
   ],
   "execution_count": 63
  },
  {
   "metadata": {
    "ExecuteTime": {
     "end_time": "2025-02-19T10:46:55.096069Z",
     "start_time": "2025-02-19T10:46:55.084563Z"
    }
   },
   "cell_type": "code",
   "source": [
    "loss_fn = torch.nn.MSELoss(reduction='none')\n",
    "torch.mean(loss_fn(model_auto(ts['data'].to(device)), ts['data'].to(device)), dim=1).size()"
   ],
   "id": "316502d19038c978",
   "outputs": [
    {
     "data": {
      "text/plain": [
       "torch.Size([256])"
      ]
     },
     "execution_count": 64,
     "metadata": {},
     "output_type": "execute_result"
    }
   ],
   "execution_count": 64
  },
  {
   "metadata": {
    "ExecuteTime": {
     "end_time": "2025-02-19T10:46:58.868680Z",
     "start_time": "2025-02-19T10:46:58.866922Z"
    }
   },
   "cell_type": "code",
   "source": "",
   "id": "36349d4db00cfbc0",
   "outputs": [],
   "execution_count": 64
  },
  {
   "metadata": {
    "ExecuteTime": {
     "end_time": "2025-02-22T18:28:49.216227Z",
     "start_time": "2025-02-22T18:28:49.211722Z"
    }
   },
   "cell_type": "code",
   "source": [
    "def extract_error(model, dataloader_train, dataloader_test):\n",
    "    loss_fn = torch.nn.MSELoss(reduction='none')\n",
    "    errors = []\n",
    "    model.eval()\n",
    "    with torch.no_grad():\n",
    "        for itms in dataloader_train:\n",
    "            x=itms['data']\n",
    "            batch_size = x.shape[0]\n",
    "            x = x.to(device)\n",
    "            # lables = lables.to(device)\n",
    "            outputs = model(x)\n",
    "            error = torch.mean(loss_fn(outputs, x), dim=1).cpu().tolist()\n",
    "            errors.extend(error)\n",
    "\n",
    "            # \n",
    "        for itms in dataloader_test:\n",
    "            x=itms['data']\n",
    "            x = x.to(device)\n",
    "            outputs = model(x)\n",
    "            error = torch.mean(loss_fn(outputs, x), dim=1).cpu().tolist()\n",
    "            errors.extend(error)\n",
    "\n",
    "            \n",
    "    return errors"
   ],
   "id": "4b50eea921d9536",
   "outputs": [],
   "execution_count": 10
  },
  {
   "metadata": {
    "ExecuteTime": {
     "end_time": "2025-02-19T10:47:03.041492Z",
     "start_time": "2025-02-19T10:47:02.957110Z"
    }
   },
   "cell_type": "code",
   "source": [
    "errors = extract_error(model_auto, dataloader_train, dataloader_test)\n",
    "len(errors)"
   ],
   "id": "bc26c067cf337651",
   "outputs": [
    {
     "data": {
      "text/plain": [
       "7168"
      ]
     },
     "execution_count": 66,
     "metadata": {},
     "output_type": "execute_result"
    }
   ],
   "execution_count": 66
  },
  {
   "metadata": {
    "ExecuteTime": {
     "end_time": "2025-02-19T10:47:09.986206Z",
     "start_time": "2025-02-19T10:47:09.920962Z"
    }
   },
   "cell_type": "code",
   "source": [
    "plt.hist(errors, bins=100)\n",
    "plt.show()"
   ],
   "id": "57c39e2943ba118b",
   "outputs": [
    {
     "data": {
      "text/plain": [
       "<Figure size 640x480 with 1 Axes>"
      ],
      "image/png": "[encoded data removed]"
     },
     "metadata": {},
     "output_type": "display_data"
    }
   ],
   "execution_count": 67
  },
  {
   "metadata": {
    "ExecuteTime": {
     "end_time": "2025-02-19T10:47:19.209975Z",
     "start_time": "2025-02-19T10:47:19.205548Z"
    }
   },
   "cell_type": "code",
   "source": "np.mean(errors), np.std(errors)",
   "id": "41158a1ebf42eb86",
   "outputs": [
    {
     "data": {
      "text/plain": [
       "(np.float64(0.0026712339925925982), np.float64(0.0014092655805875568))"
      ]
     },
     "execution_count": 68,
     "metadata": {},
     "output_type": "execute_result"
    }
   ],
   "execution_count": 68
  },
  {
   "metadata": {},
   "cell_type": "code",
   "outputs": [],
   "execution_count": null,
   "source": "",
   "id": "15b423ece04cdd2a"
  },
  {
   "metadata": {
    "ExecuteTime": {
     "end_time": "2025-02-22T18:22:18.739651Z",
     "start_time": "2025-02-22T18:22:18.724621Z"
    }
   },
   "cell_type": "code",
   "source": "model_auto = AutoEncoder(512, 256, 128, 32).to(device)",
   "id": "ff7273912c3e6b33",
   "outputs": [],
   "execution_count": 11
  },
  {
   "metadata": {
    "ExecuteTime": {
     "end_time": "2025-02-22T18:24:14.399065Z",
     "start_time": "2025-02-22T18:22:20.225527Z"
    }
   },
   "cell_type": "code",
   "source": "training_loop(model_auto, dataloader_train, dataloader_test, nf='best_model_autoenc32_resnet34.pt')",
   "id": "d5e8d05d05f1f71c",
   "outputs": [
    {
     "name": "stdout",
     "output_type": "stream",
     "text": [
      "Epoch: 1, Epoch train loss: 0.061213803549225516\n",
      "Epoch val loss: 0.046882232651114464\n",
      "Epoch: 100, Epoch train loss: 0.003544569705039836\n",
      "Epoch val loss: 0.0037184030516073108\n",
      "Epoch: 200, Epoch train loss: 0.0032904219473353946\n",
      "Epoch val loss: 0.0036454818909987807\n",
      "Epoch: 300, Epoch train loss: 0.003088012382459755\n",
      "Epoch val loss: 0.0035507328575477004\n",
      "Epoch: 400, Epoch train loss: 0.0032021491430126703\n",
      "Epoch val loss: 0.0038935852935537696\n",
      "Epoch: 500, Epoch train loss: 0.003023611193594451\n",
      "Epoch val loss: 0.003589494852349162\n",
      "Epoch: 600, Epoch train loss: 0.003061410827705493\n",
      "Epoch val loss: 0.0036142512690275908\n",
      "Epoch: 700, Epoch train loss: 0.0030208864392569433\n",
      "Epoch val loss: 0.003408308606594801\n",
      "Epoch: 800, Epoch train loss: 0.0030568022585402313\n",
      "Epoch val loss: 0.003545186249539256\n",
      "Epoch: 900, Epoch train loss: 0.002972554084128485\n",
      "Epoch val loss: 0.0035160199040547013\n",
      "Epoch: 1000, Epoch train loss: 0.0029808163123491863\n",
      "Epoch val loss: 0.003705167444422841\n"
     ]
    },
    {
     "data": {
      "text/plain": [
       "0.006448032101616263"
      ]
     },
     "execution_count": 12,
     "metadata": {},
     "output_type": "execute_result"
    }
   ],
   "execution_count": 12
  },
  {
   "metadata": {
    "ExecuteTime": {
     "end_time": "2025-02-22T18:25:10.428165Z",
     "start_time": "2025-02-22T18:25:10.412303Z"
    }
   },
   "cell_type": "code",
   "source": "model_auto.load_state_dict(torch.load('best_model_autoenc32_resnet34.pt', map_location=device, weights_only=False))",
   "id": "6a0bbe2bf5be54d1",
   "outputs": [
    {
     "data": {
      "text/plain": [
       "<All keys matched successfully>"
      ]
     },
     "execution_count": 14,
     "metadata": {},
     "output_type": "execute_result"
    }
   ],
   "execution_count": 14
  },
  {
   "metadata": {
    "ExecuteTime": {
     "end_time": "2025-02-22T18:25:11.310534Z",
     "start_time": "2025-02-22T18:25:11.232319Z"
    }
   },
   "cell_type": "code",
   "source": [
    "errors = extract_error(model_auto, dataloader_train, dataloader_test)\n",
    "len(errors)"
   ],
   "id": "f28a8b4cc116f6e8",
   "outputs": [
    {
     "data": {
      "text/plain": [
       "7168"
      ]
     },
     "execution_count": 15,
     "metadata": {},
     "output_type": "execute_result"
    }
   ],
   "execution_count": 15
  },
  {
   "metadata": {
    "ExecuteTime": {
     "end_time": "2025-02-22T18:25:13.325376Z",
     "start_time": "2025-02-22T18:25:13.230836Z"
    }
   },
   "cell_type": "code",
   "source": [
    "plt.hist(errors, bins=100)\n",
    "plt.show()"
   ],
   "id": "eccf2e418b5d50d9",
   "outputs": [
    {
     "data": {
      "text/plain": [
       "<Figure size 640x480 with 1 Axes>"
      ],
      "image/png": "[encoded data removed]"
     },
     "metadata": {},
     "output_type": "display_data"
    }
   ],
   "execution_count": 16
  },
  {
   "metadata": {
    "ExecuteTime": {
     "end_time": "2025-02-22T18:25:13.957935Z",
     "start_time": "2025-02-22T18:25:13.955196Z"
    }
   },
   "cell_type": "code",
   "source": "np.mean(errors), np.std(errors)",
   "id": "3b71940f10e517b0",
   "outputs": [
    {
     "data": {
      "text/plain": [
       "(np.float64(0.0028689661610152534), np.float64(0.0015227751630189164))"
      ]
     },
     "execution_count": 17,
     "metadata": {},
     "output_type": "execute_result"
    }
   ],
   "execution_count": 17
  },
  {
   "metadata": {},
   "cell_type": "code",
   "outputs": [],
   "execution_count": null,
   "source": "",
   "id": "f92dcdecacaabdd0"
  },
  {
   "metadata": {
    "ExecuteTime": {
     "end_time": "2025-02-22T18:29:07.755106Z",
     "start_time": "2025-02-22T18:29:07.741583Z"
    }
   },
   "cell_type": "code",
   "source": "model_auto = AutoEncoder(512, 256, 128, 16).to(device)",
   "id": "28dcf8fa0387f4ab",
   "outputs": [],
   "execution_count": 11
  },
  {
   "metadata": {
    "ExecuteTime": {
     "end_time": "2025-02-22T18:31:30.251227Z",
     "start_time": "2025-02-22T18:29:32.089849Z"
    }
   },
   "cell_type": "code",
   "source": "training_loop(model_auto, dataloader_train, dataloader_test, nf='best_model_autoenc16_resnet34.pt')",
   "id": "8c4ea126ee6dceed",
   "outputs": [
    {
     "name": "stdout",
     "output_type": "stream",
     "text": [
      "Epoch: 1, Epoch train loss: 0.061481214773196444\n",
      "Epoch val loss: 0.04827135615050793\n",
      "Epoch: 100, Epoch train loss: 0.003260822339843099\n",
      "Epoch val loss: 0.0036884754663333297\n",
      "Epoch: 200, Epoch train loss: 0.003042131707143898\n",
      "Epoch val loss: 0.0035193634685128927\n",
      "Epoch: 300, Epoch train loss: 0.0029767047739229524\n",
      "Epoch val loss: 0.003585038357414305\n",
      "Epoch: 400, Epoch train loss: 0.0028921490212759147\n",
      "Epoch val loss: 0.0033607601653784513\n",
      "Epoch: 500, Epoch train loss: 0.002865042107609602\n",
      "Epoch val loss: 0.003401499125175178\n",
      "Epoch: 600, Epoch train loss: 0.002895288241024201\n",
      "Epoch val loss: 0.003413943573832512\n",
      "Epoch: 700, Epoch train loss: 0.0028236717290173355\n",
      "Epoch val loss: 0.003311182139441371\n",
      "Epoch: 800, Epoch train loss: 0.0028386438319173\n",
      "Epoch val loss: 0.0033355921041220427\n",
      "Epoch: 900, Epoch train loss: 0.0027948921331419395\n",
      "Epoch val loss: 0.003356970497407019\n",
      "Epoch: 1000, Epoch train loss: 0.0027516895923047112\n",
      "Epoch val loss: 0.0033365938579663634\n"
     ]
    },
    {
     "data": {
      "text/plain": [
       "0.006075288634747267"
      ]
     },
     "execution_count": 12,
     "metadata": {},
     "output_type": "execute_result"
    }
   ],
   "execution_count": 12
  },
  {
   "metadata": {
    "ExecuteTime": {
     "end_time": "2025-02-22T18:31:43.979652Z",
     "start_time": "2025-02-22T18:31:43.963017Z"
    }
   },
   "cell_type": "code",
   "source": "model_auto.load_state_dict(torch.load('best_model_autoenc16_resnet34.pt', map_location=device, weights_only=False))",
   "id": "ace3b43f23ca2101",
   "outputs": [
    {
     "data": {
      "text/plain": [
       "<All keys matched successfully>"
      ]
     },
     "execution_count": 13,
     "metadata": {},
     "output_type": "execute_result"
    }
   ],
   "execution_count": 13
  },
  {
   "metadata": {
    "ExecuteTime": {
     "end_time": "2025-02-22T18:31:44.934289Z",
     "start_time": "2025-02-22T18:31:44.864638Z"
    }
   },
   "cell_type": "code",
   "source": [
    "errors = extract_error(model_auto, dataloader_train, dataloader_test)\n",
    "len(errors)"
   ],
   "id": "463221e070a68316",
   "outputs": [
    {
     "data": {
      "text/plain": [
       "7168"
      ]
     },
     "execution_count": 14,
     "metadata": {},
     "output_type": "execute_result"
    }
   ],
   "execution_count": 14
  },
  {
   "metadata": {
    "ExecuteTime": {
     "end_time": "2025-02-22T18:31:45.783877Z",
     "start_time": "2025-02-22T18:31:45.706081Z"
    }
   },
   "cell_type": "code",
   "source": [
    "plt.hist(errors, bins=100)\n",
    "plt.show()"
   ],
   "id": "ab10a9e891a3fb35",
   "outputs": [
    {
     "data": {
      "text/plain": [
       "<Figure size 640x480 with 1 Axes>"
      ],
      "image/png": "[encoded data removed]"
     },
     "metadata": {},
     "output_type": "display_data"
    }
   ],
   "execution_count": 15
  },
  {
   "metadata": {
    "ExecuteTime": {
     "end_time": "2025-02-22T18:32:02.536901Z",
     "start_time": "2025-02-22T18:32:02.533223Z"
    }
   },
   "cell_type": "code",
   "source": "np.mean(errors), np.std(errors)",
   "id": "e00480d25e2d3711",
   "outputs": [
    {
     "data": {
      "text/plain": [
       "(np.float64(0.0026551851744004906), np.float64(0.0014190136052233786))"
      ]
     },
     "execution_count": 16,
     "metadata": {},
     "output_type": "execute_result"
    }
   ],
   "execution_count": 16
  },
  {
   "metadata": {},
   "cell_type": "code",
   "outputs": [],
   "execution_count": null,
   "source": "",
   "id": "bcaf147549596cb4"
  }
 ],
 "metadata": {
  "kernelspec": {
   "display_name": "Python 3",
   "language": "python",
   "name": "python3"
  },
  "language_info": {
   "codemirror_mode": {
    "name": "ipython",
    "version": 2
   },
   "file_extension": ".py",
   "mimetype": "text/x-python",
   "name": "python",
   "nbconvert_exporter": "python",
   "pygments_lexer": "ipython2",
   "version": "2.7.6"
  }
 },
 "nbformat": 4,
 "nbformat_minor": 5
}
