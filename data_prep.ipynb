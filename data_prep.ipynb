{
 "cells": [
  {
   "cell_type": "code",
   "id": "initial_id",
   "metadata": {
    "collapsed": true,
    "ExecuteTime": {
     "end_time": "2025-02-17T03:45:18.295537Z",
     "start_time": "2025-02-17T03:45:18.104985Z"
    }
   },
   "source": [
    "import pandas as pd\n",
    "import numpy as np\n",
    "from pathlib import Path\n",
    "import shutil\n",
    "import random"
   ],
   "outputs": [],
   "execution_count": 1
  },
  {
   "metadata": {
    "ExecuteTime": {
     "end_time": "2025-02-17T03:46:20.435518Z",
     "start_time": "2025-02-17T03:46:20.433678Z"
    }
   },
   "cell_type": "code",
   "source": [
    "path_train = './data/train/'\n",
    "path_test = './data/test/'\n",
    "path_final_test = './data/final_test/'"
   ],
   "id": "69fc9e0b0b6cd984",
   "outputs": [],
   "execution_count": 6
  },
  {
   "metadata": {
    "ExecuteTime": {
     "end_time": "2025-02-17T03:46:21.841124Z",
     "start_time": "2025-02-17T03:46:21.828204Z"
    }
   },
   "cell_type": "code",
   "source": [
    "df_data = pd.read_csv('./labels/labels.csv', header=0)\n",
    "df_data"
   ],
   "id": "2e0970625742c539",
   "outputs": [
    {
     "data": {
      "text/plain": [
       "                    Filename  Label       Species\n",
       "0      20160928-140314-0.jpg      0  Chinee apple\n",
       "1      20160928-140337-0.jpg      0  Chinee apple\n",
       "2      20160928-140731-0.jpg      0  Chinee apple\n",
       "3      20160928-140747-0.jpg      0  Chinee apple\n",
       "4      20160928-141107-0.jpg      0  Chinee apple\n",
       "...                      ...    ...           ...\n",
       "17504  20180322-133822-1.jpg      8      Negative\n",
       "17505  20180322-133832-1.jpg      8      Negative\n",
       "17506  20180322-133840-1.jpg      8      Negative\n",
       "17507  20180322-133850-1.jpg      8      Negative\n",
       "17508  20180322-133901-1.jpg      8      Negative\n",
       "\n",
       "[17509 rows x 3 columns]"
      ],
      "text/html": [
       "<div>\n",
       "<style scoped>\n",
       "    .dataframe tbody tr th:only-of-type {\n",
       "        vertical-align: middle;\n",
       "    }\n",
       "\n",
       "    .dataframe tbody tr th {\n",
       "        vertical-align: top;\n",
       "    }\n",
       "\n",
       "    .dataframe thead th {\n",
       "        text-align: right;\n",
       "    }\n",
       "</style>\n",
       "<table border=\"1\" class=\"dataframe\">\n",
       "  <thead>\n",
       "    <tr style=\"text-align: right;\">\n",
       "      <th></th>\n",
       "      <th>Filename</th>\n",
       "      <th>Label</th>\n",
       "      <th>Species</th>\n",
       "    </tr>\n",
       "  </thead>\n",
       "  <tbody>\n",
       "    <tr>\n",
       "      <th>0</th>\n",
       "      <td>20160928-140314-0.jpg</td>\n",
       "      <td>0</td>\n",
       "      <td>Chinee apple</td>\n",
       "    </tr>\n",
       "    <tr>\n",
       "      <th>1</th>\n",
       "      <td>20160928-140337-0.jpg</td>\n",
       "      <td>0</td>\n",
       "      <td>Chinee apple</td>\n",
       "    </tr>\n",
       "    <tr>\n",
       "      <th>2</th>\n",
       "      <td>20160928-140731-0.jpg</td>\n",
       "      <td>0</td>\n",
       "      <td>Chinee apple</td>\n",
       "    </tr>\n",
       "    <tr>\n",
       "      <th>3</th>\n",
       "      <td>20160928-140747-0.jpg</td>\n",
       "      <td>0</td>\n",
       "      <td>Chinee apple</td>\n",
       "    </tr>\n",
       "    <tr>\n",
       "      <th>4</th>\n",
       "      <td>20160928-141107-0.jpg</td>\n",
       "      <td>0</td>\n",
       "      <td>Chinee apple</td>\n",
       "    </tr>\n",
       "    <tr>\n",
       "      <th>...</th>\n",
       "      <td>...</td>\n",
       "      <td>...</td>\n",
       "      <td>...</td>\n",
       "    </tr>\n",
       "    <tr>\n",
       "      <th>17504</th>\n",
       "      <td>20180322-133822-1.jpg</td>\n",
       "      <td>8</td>\n",
       "      <td>Negative</td>\n",
       "    </tr>\n",
       "    <tr>\n",
       "      <th>17505</th>\n",
       "      <td>20180322-133832-1.jpg</td>\n",
       "      <td>8</td>\n",
       "      <td>Negative</td>\n",
       "    </tr>\n",
       "    <tr>\n",
       "      <th>17506</th>\n",
       "      <td>20180322-133840-1.jpg</td>\n",
       "      <td>8</td>\n",
       "      <td>Negative</td>\n",
       "    </tr>\n",
       "    <tr>\n",
       "      <th>17507</th>\n",
       "      <td>20180322-133850-1.jpg</td>\n",
       "      <td>8</td>\n",
       "      <td>Negative</td>\n",
       "    </tr>\n",
       "    <tr>\n",
       "      <th>17508</th>\n",
       "      <td>20180322-133901-1.jpg</td>\n",
       "      <td>8</td>\n",
       "      <td>Negative</td>\n",
       "    </tr>\n",
       "  </tbody>\n",
       "</table>\n",
       "<p>17509 rows × 3 columns</p>\n",
       "</div>"
      ]
     },
     "execution_count": 7,
     "metadata": {},
     "output_type": "execute_result"
    }
   ],
   "execution_count": 7
  },
  {
   "metadata": {
    "ExecuteTime": {
     "end_time": "2025-02-17T03:46:24.192259Z",
     "start_time": "2025-02-17T03:46:24.188257Z"
    }
   },
   "cell_type": "code",
   "source": [
    "df_data_pos = df_data[df_data['Label'] != 8]\n",
    "df_data_neg = df_data[df_data['Label'] == 8]"
   ],
   "id": "3a74a141a3d79d12",
   "outputs": [],
   "execution_count": 8
  },
  {
   "metadata": {
    "ExecuteTime": {
     "end_time": "2025-02-17T03:46:25.971771Z",
     "start_time": "2025-02-17T03:46:25.967497Z"
    }
   },
   "cell_type": "code",
   "source": "len(df_data_pos.to_numpy()), len(df_data_neg.to_numpy())",
   "id": "82cfb1dfe025a781",
   "outputs": [
    {
     "data": {
      "text/plain": [
       "(8403, 9106)"
      ]
     },
     "execution_count": 9,
     "metadata": {},
     "output_type": "execute_result"
    }
   ],
   "execution_count": 9
  },
  {
   "metadata": {
    "ExecuteTime": {
     "end_time": "2025-02-17T02:46:14.250139Z",
     "start_time": "2025-02-17T02:46:14.248250Z"
    }
   },
   "cell_type": "code",
   "source": "",
   "id": "7b287cc5dac70383",
   "outputs": [],
   "execution_count": 10
  },
  {
   "metadata": {
    "ExecuteTime": {
     "end_time": "2025-02-17T03:52:38.616502Z",
     "start_time": "2025-02-17T03:52:38.477640Z"
    }
   },
   "cell_type": "code",
   "source": [
    "neg_len = df_data_neg.shape[0]\n",
    "df_neg_ind = [i for i in range(neg_len)]\n",
    "random.shuffle(df_neg_ind)\n",
    "imgs = df_data_neg.to_numpy()\n",
    "for i in df_neg_ind[:int(neg_len*0.1)]:\n",
    "    img = imgs[i]\n",
    "    p = Path(path_final_test, f'{img[1]}/')\n",
    "    p.mkdir(mode=0o777, parents=True, exist_ok=True)\n",
    "    shutil.copyfile(f'./images/{img[0]}', Path(p,img[0]))"
   ],
   "id": "d1fea2538427f61a",
   "outputs": [],
   "execution_count": 11
  },
  {
   "metadata": {
    "ExecuteTime": {
     "end_time": "2025-02-17T03:52:56.126065Z",
     "start_time": "2025-02-17T03:52:56.120527Z"
    }
   },
   "cell_type": "code",
   "source": [
    "pos_len = df_data_pos.shape[0]\n",
    "df_pos_ind = [i for i in range(pos_len)]\n",
    "random.shuffle(df_pos_ind)\n",
    "ind_tr = df_pos_ind[:int(pos_len*0.8)]\n",
    "ind_val = df_pos_ind[int(pos_len*0.8):int(pos_len*0.9)]\n",
    "ind_final = df_pos_ind[int(pos_len*0.9):]"
   ],
   "id": "d39a28152e0ae766",
   "outputs": [],
   "execution_count": 12
  },
  {
   "metadata": {
    "ExecuteTime": {
     "end_time": "2025-02-17T03:53:00.478753Z",
     "start_time": "2025-02-17T03:52:57.321304Z"
    }
   },
   "cell_type": "code",
   "source": [
    "imgs = df_data_pos.to_numpy()\n",
    "for i in ind_tr:\n",
    "    img = imgs[i]\n",
    "    p = Path(path_train, f'{img[1]}/')\n",
    "    p.mkdir(mode=0o777, parents=True, exist_ok=True)\n",
    "    shutil.copyfile(f'./images/{img[0]}', Path(p,f'{img[0]}'))\n",
    "\n",
    "for i in ind_val:\n",
    "    img = imgs[i]\n",
    "    p = Path(path_test, f'{img[1]}/')\n",
    "    p.mkdir(mode=0o777, parents=True, exist_ok=True)\n",
    "    shutil.copyfile(f'./images/{img[0]}', Path(p,f'{img[0]}'))\n",
    "    \n",
    "for i in ind_final:\n",
    "    img = imgs[i]\n",
    "    p = Path(path_final_test, f'{img[1]}/')\n",
    "    p.mkdir(mode=0o777, parents=True, exist_ok=True)\n",
    "    shutil.copyfile(f'./images/{img[0]}', Path(p,f'{img[0]}'))"
   ],
   "id": "d36bef4eff3e179d",
   "outputs": [],
   "execution_count": 13
  },
  {
   "metadata": {},
   "cell_type": "code",
   "outputs": [],
   "execution_count": null,
   "source": "",
   "id": "65093144ae396591"
  }
 ],
 "metadata": {
  "kernelspec": {
   "display_name": "Python 3",
   "language": "python",
   "name": "python3"
  },
  "language_info": {
   "codemirror_mode": {
    "name": "ipython",
    "version": 2
   },
   "file_extension": ".py",
   "mimetype": "text/x-python",
   "name": "python",
   "nbconvert_exporter": "python",
   "pygments_lexer": "ipython2",
   "version": "2.7.6"
  }
 },
 "nbformat": 4,
 "nbformat_minor": 5
}
