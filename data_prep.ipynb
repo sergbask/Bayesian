{
 "cells": [
  {
   "cell_type": "code",
   "execution_count": 13,
   "metadata": {},
   "outputs": [],
   "source": [
    "import pandas as pd\n",
    "from pathlib import Path\n",
    "import shutil\n",
    "import random"
   ]
  },
  {
   "cell_type": "code",
   "execution_count": 14,
   "metadata": {},
   "outputs": [
    {
     "data": {
      "text/html": [
       "<div>\n",
       "<style scoped>\n",
       "    .dataframe tbody tr th:only-of-type {\n",
       "        vertical-align: middle;\n",
       "    }\n",
       "\n",
       "    .dataframe tbody tr th {\n",
       "        vertical-align: top;\n",
       "    }\n",
       "\n",
       "    .dataframe thead th {\n",
       "        text-align: right;\n",
       "    }\n",
       "</style>\n",
       "<table border=\"1\" class=\"dataframe\">\n",
       "  <thead>\n",
       "    <tr style=\"text-align: right;\">\n",
       "      <th></th>\n",
       "      <th>Filename</th>\n",
       "      <th>Label</th>\n",
       "      <th>Species</th>\n",
       "    </tr>\n",
       "  </thead>\n",
       "  <tbody>\n",
       "    <tr>\n",
       "      <th>0</th>\n",
       "      <td>20160928-140314-0.jpg</td>\n",
       "      <td>0</td>\n",
       "      <td>Chinee apple</td>\n",
       "    </tr>\n",
       "    <tr>\n",
       "      <th>1</th>\n",
       "      <td>20160928-140337-0.jpg</td>\n",
       "      <td>0</td>\n",
       "      <td>Chinee apple</td>\n",
       "    </tr>\n",
       "    <tr>\n",
       "      <th>2</th>\n",
       "      <td>20160928-140731-0.jpg</td>\n",
       "      <td>0</td>\n",
       "      <td>Chinee apple</td>\n",
       "    </tr>\n",
       "    <tr>\n",
       "      <th>3</th>\n",
       "      <td>20160928-140747-0.jpg</td>\n",
       "      <td>0</td>\n",
       "      <td>Chinee apple</td>\n",
       "    </tr>\n",
       "    <tr>\n",
       "      <th>4</th>\n",
       "      <td>20160928-141107-0.jpg</td>\n",
       "      <td>0</td>\n",
       "      <td>Chinee apple</td>\n",
       "    </tr>\n",
       "  </tbody>\n",
       "</table>\n",
       "</div>"
      ],
      "text/plain": [
       "                Filename  Label       Species\n",
       "0  20160928-140314-0.jpg      0  Chinee apple\n",
       "1  20160928-140337-0.jpg      0  Chinee apple\n",
       "2  20160928-140731-0.jpg      0  Chinee apple\n",
       "3  20160928-140747-0.jpg      0  Chinee apple\n",
       "4  20160928-141107-0.jpg      0  Chinee apple"
      ]
     },
     "execution_count": 14,
     "metadata": {},
     "output_type": "execute_result"
    }
   ],
   "source": [
    "path_train = './data/train/'\n",
    "path_test = './data/val/'\n",
    "path_final_test = './data/test/'\n",
    "df_data = pd.read_csv('../labels/labels.csv', header=0)\n",
    "df_data.head()"
   ]
  },
  {
   "cell_type": "code",
   "execution_count": 15,
   "metadata": {},
   "outputs": [
    {
     "data": {
      "text/plain": [
       "array([['20160928-140314-0.jpg', 0, 'Chinee apple'],\n",
       "       ['20160928-140337-0.jpg', 0, 'Chinee apple'],\n",
       "       ['20160928-140731-0.jpg', 0, 'Chinee apple'],\n",
       "       ...,\n",
       "       ['20180322-133840-1.jpg', 8, 'Negative'],\n",
       "       ['20180322-133850-1.jpg', 8, 'Negative'],\n",
       "       ['20180322-133901-1.jpg', 8, 'Negative']], dtype=object)"
      ]
     },
     "execution_count": 15,
     "metadata": {},
     "output_type": "execute_result"
    }
   ],
   "source": [
    "# Find all positive samples (labels 0-7)\n",
    "df_data_pos = df_data[df_data['Label'] != 8]\n",
    "# Find indices of all positive samples\n",
    "pos_ind = df_data_pos.index.tolist()\n",
    "random.shuffle(pos_ind)\n",
    "# Find all negative samples (label 8)\n",
    "df_data_neg = df_data[df_data['Label'] == 8]\n",
    "# Find indices of all negative samples\n",
    "neg_ind = df_data_neg.index.tolist()\n",
    "random.shuffle(neg_ind)\n",
    "imgs = df_data.to_numpy()\n",
    "imgs"
   ]
  },
  {
   "cell_type": "code",
   "execution_count": 16,
   "metadata": {},
   "outputs": [
    {
     "name": "stdout",
     "output_type": "stream",
     "text": [
      "10504\n",
      "3502\n",
      "3503\n"
     ]
    }
   ],
   "source": [
    "pos_len = len(pos_ind)\n",
    "neg_len = len(neg_ind)\n",
    "ind_tr = pos_ind[:int(pos_len*0.6)] + neg_ind[:int(neg_len*0.6)]\n",
    "ind_val = pos_ind[int(pos_len*0.6):int(pos_len*0.8)] + neg_ind[int(neg_len*0.6):int(neg_len*0.8)]\n",
    "ind_test = pos_ind[int(pos_len*0.8):] + neg_ind[int(neg_len*0.8):]\n",
    "print(len(ind_tr))\n",
    "print(len(ind_val))\n",
    "print(len(ind_test))"
   ]
  },
  {
   "cell_type": "code",
   "execution_count": 17,
   "metadata": {},
   "outputs": [],
   "source": [
    "for i in ind_tr:\n",
    "    img = imgs[i]\n",
    "    p = Path(path_train, f'{img[1]}/')\n",
    "    p.mkdir(mode=0o777, parents=True, exist_ok=True)\n",
    "    shutil.copyfile(f'../images/{img[0]}', Path(p,f'{img[0]}'))\n",
    "\n",
    "for i in ind_val:\n",
    "    img = imgs[i]\n",
    "    p = Path(path_test, f'{img[1]}/')\n",
    "    p.mkdir(mode=0o777, parents=True, exist_ok=True)\n",
    "    shutil.copyfile(f'../images/{img[0]}', Path(p,f'{img[0]}'))\n",
    "    \n",
    "for i in ind_test:\n",
    "    img = imgs[i]\n",
    "    p = Path(path_final_test, f'{img[1]}/')\n",
    "    p.mkdir(mode=0o777, parents=True, exist_ok=True)\n",
    "    shutil.copyfile(f'../images/{img[0]}', Path(p,f'{img[0]}'))"
   ]
  }
 ],
 "metadata": {
  "kernelspec": {
   "display_name": "3.10.0",
   "language": "python",
   "name": "python3"
  },
  "language_info": {
   "codemirror_mode": {
    "name": "ipython",
    "version": 3
   },
   "file_extension": ".py",
   "mimetype": "text/x-python",
   "name": "python",
   "nbconvert_exporter": "python",
   "pygments_lexer": "ipython3",
   "version": "3.10.0"
  }
 },
 "nbformat": 4,
 "nbformat_minor": 2
}
